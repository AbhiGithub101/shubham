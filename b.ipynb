{
 "cells": [
  {
   "cell_type": "code",
   "execution_count": 1,
   "metadata": {},
   "outputs": [],
   "source": [
    "import pandas \n",
    "import plotly.express as plotly\n"
   ]
  },
  {
   "cell_type": "code",
   "execution_count": 2,
   "metadata": {},
   "outputs": [
    {
     "data": {
      "text/html": [
       "<div>\n",
       "<style scoped>\n",
       "    .dataframe tbody tr th:only-of-type {\n",
       "        vertical-align: middle;\n",
       "    }\n",
       "\n",
       "    .dataframe tbody tr th {\n",
       "        vertical-align: top;\n",
       "    }\n",
       "\n",
       "    .dataframe thead th {\n",
       "        text-align: right;\n",
       "    }\n",
       "</style>\n",
       "<table border=\"1\" class=\"dataframe\">\n",
       "  <thead>\n",
       "    <tr style=\"text-align: right;\">\n",
       "      <th></th>\n",
       "      <th>Order ID</th>\n",
       "      <th>Order Date</th>\n",
       "      <th>Ship Date</th>\n",
       "      <th>Ship Days</th>\n",
       "      <th>Ship Mode</th>\n",
       "      <th>Customer ID</th>\n",
       "      <th>Customer Name</th>\n",
       "      <th>Customer Type</th>\n",
       "      <th>City</th>\n",
       "      <th>State</th>\n",
       "      <th>Country</th>\n",
       "      <th>Product Type</th>\n",
       "      <th>Product</th>\n",
       "      <th>Product Name</th>\n",
       "      <th>Sales</th>\n",
       "      <th>Quantity</th>\n",
       "      <th>Discount</th>\n",
       "      <th>Profit</th>\n",
       "      <th>Shipping Cost</th>\n",
       "    </tr>\n",
       "  </thead>\n",
       "  <tbody>\n",
       "    <tr>\n",
       "      <th>0</th>\n",
       "      <td>CA-2013-108196</td>\n",
       "      <td>2013-11-26</td>\n",
       "      <td>2013-12-03</td>\n",
       "      <td>7</td>\n",
       "      <td>Standard Class</td>\n",
       "      <td>CS-12505</td>\n",
       "      <td>Cindy Stewart</td>\n",
       "      <td>Consumer</td>\n",
       "      <td>Lancaster</td>\n",
       "      <td>Ohio</td>\n",
       "      <td>United States</td>\n",
       "      <td>Technology</td>\n",
       "      <td>Machines</td>\n",
       "      <td>Cubify CubeX 3D Printer Double Head Print</td>\n",
       "      <td>4499.985</td>\n",
       "      <td>5</td>\n",
       "      <td>0.7</td>\n",
       "      <td>-6599.9780</td>\n",
       "      <td>451.63</td>\n",
       "    </tr>\n",
       "    <tr>\n",
       "      <th>1</th>\n",
       "      <td>US-2014-168116</td>\n",
       "      <td>2014-11-05</td>\n",
       "      <td>2014-11-05</td>\n",
       "      <td>0</td>\n",
       "      <td>Same Day</td>\n",
       "      <td>GT-14635</td>\n",
       "      <td>Grant Thornton</td>\n",
       "      <td>Corporate</td>\n",
       "      <td>Burlington</td>\n",
       "      <td>North Carolina</td>\n",
       "      <td>United States</td>\n",
       "      <td>Technology</td>\n",
       "      <td>Machines</td>\n",
       "      <td>Cubify CubeX 3D Printer Triple Head Print</td>\n",
       "      <td>7999.980</td>\n",
       "      <td>4</td>\n",
       "      <td>0.5</td>\n",
       "      <td>-3839.9904</td>\n",
       "      <td>674.82</td>\n",
       "    </tr>\n",
       "    <tr>\n",
       "      <th>2</th>\n",
       "      <td>IT-2013-3695467</td>\n",
       "      <td>2013-06-10</td>\n",
       "      <td>2013-06-14</td>\n",
       "      <td>4</td>\n",
       "      <td>Standard Class</td>\n",
       "      <td>SS-20140</td>\n",
       "      <td>Saphhira Shifley</td>\n",
       "      <td>Corporate</td>\n",
       "      <td>Lisbon</td>\n",
       "      <td>Lisboa</td>\n",
       "      <td>Portugal</td>\n",
       "      <td>Office Supplies</td>\n",
       "      <td>Appliances</td>\n",
       "      <td>Hoover Stove, White</td>\n",
       "      <td>3399.660</td>\n",
       "      <td>12</td>\n",
       "      <td>0.5</td>\n",
       "      <td>-3059.8200</td>\n",
       "      <td>286.87</td>\n",
       "    </tr>\n",
       "    <tr>\n",
       "      <th>3</th>\n",
       "      <td>ID-2013-12295</td>\n",
       "      <td>2013-09-14</td>\n",
       "      <td>2013-09-14</td>\n",
       "      <td>0</td>\n",
       "      <td>Same Day</td>\n",
       "      <td>SN-20560</td>\n",
       "      <td>Skye Norling</td>\n",
       "      <td>Home Office</td>\n",
       "      <td>Lahore</td>\n",
       "      <td>Punjab</td>\n",
       "      <td>Pakistan</td>\n",
       "      <td>Technology</td>\n",
       "      <td>Phones</td>\n",
       "      <td>Apple Smart Phone, Full Size</td>\n",
       "      <td>3499.155</td>\n",
       "      <td>11</td>\n",
       "      <td>0.5</td>\n",
       "      <td>-3009.4350</td>\n",
       "      <td>333.10</td>\n",
       "    </tr>\n",
       "    <tr>\n",
       "      <th>4</th>\n",
       "      <td>LH-2014-5390</td>\n",
       "      <td>2014-01-28</td>\n",
       "      <td>2014-01-30</td>\n",
       "      <td>2</td>\n",
       "      <td>Second Class</td>\n",
       "      <td>JC-6105</td>\n",
       "      <td>Julie Creighton</td>\n",
       "      <td>Corporate</td>\n",
       "      <td>Vilnius</td>\n",
       "      <td>Vilnius</td>\n",
       "      <td>Lithuania</td>\n",
       "      <td>Furniture</td>\n",
       "      <td>Tables</td>\n",
       "      <td>Barricks Conference Table, Rectangular</td>\n",
       "      <td>2171.160</td>\n",
       "      <td>8</td>\n",
       "      <td>0.7</td>\n",
       "      <td>-2750.2800</td>\n",
       "      <td>390.09</td>\n",
       "    </tr>\n",
       "    <tr>\n",
       "      <th>...</th>\n",
       "      <td>...</td>\n",
       "      <td>...</td>\n",
       "      <td>...</td>\n",
       "      <td>...</td>\n",
       "      <td>...</td>\n",
       "      <td>...</td>\n",
       "      <td>...</td>\n",
       "      <td>...</td>\n",
       "      <td>...</td>\n",
       "      <td>...</td>\n",
       "      <td>...</td>\n",
       "      <td>...</td>\n",
       "      <td>...</td>\n",
       "      <td>...</td>\n",
       "      <td>...</td>\n",
       "      <td>...</td>\n",
       "      <td>...</td>\n",
       "      <td>...</td>\n",
       "      <td>...</td>\n",
       "    </tr>\n",
       "    <tr>\n",
       "      <th>823</th>\n",
       "      <td>ES-2014-1651774</td>\n",
       "      <td>2014-09-08</td>\n",
       "      <td>2014-09-14</td>\n",
       "      <td>6</td>\n",
       "      <td>Standard Class</td>\n",
       "      <td>PJ-18835</td>\n",
       "      <td>Patrick Jones</td>\n",
       "      <td>Corporate</td>\n",
       "      <td>Prato</td>\n",
       "      <td>Tuscany</td>\n",
       "      <td>Italy</td>\n",
       "      <td>Office Supplies</td>\n",
       "      <td>Appliances</td>\n",
       "      <td>Hoover Stove, Red</td>\n",
       "      <td>7958.580</td>\n",
       "      <td>14</td>\n",
       "      <td>0.0</td>\n",
       "      <td>3979.0800</td>\n",
       "      <td>778.32</td>\n",
       "    </tr>\n",
       "    <tr>\n",
       "      <th>824</th>\n",
       "      <td>CA-2011-116904</td>\n",
       "      <td>2011-09-23</td>\n",
       "      <td>2011-09-28</td>\n",
       "      <td>5</td>\n",
       "      <td>Standard Class</td>\n",
       "      <td>SC-20095</td>\n",
       "      <td>Sanjit Chand</td>\n",
       "      <td>Consumer</td>\n",
       "      <td>Minneapolis</td>\n",
       "      <td>Minnesota</td>\n",
       "      <td>United States</td>\n",
       "      <td>Office Supplies</td>\n",
       "      <td>Binders</td>\n",
       "      <td>Ibico EPK-21 Electric Binding System</td>\n",
       "      <td>9449.950</td>\n",
       "      <td>5</td>\n",
       "      <td>0.0</td>\n",
       "      <td>4630.4755</td>\n",
       "      <td>655.61</td>\n",
       "    </tr>\n",
       "    <tr>\n",
       "      <th>825</th>\n",
       "      <td>CA-2013-117121</td>\n",
       "      <td>2013-12-18</td>\n",
       "      <td>2013-12-22</td>\n",
       "      <td>4</td>\n",
       "      <td>Standard Class</td>\n",
       "      <td>AB-10105</td>\n",
       "      <td>Adrian Barton</td>\n",
       "      <td>Consumer</td>\n",
       "      <td>Detroit</td>\n",
       "      <td>Michigan</td>\n",
       "      <td>United States</td>\n",
       "      <td>Office Supplies</td>\n",
       "      <td>Binders</td>\n",
       "      <td>GBC Ibimaster 500 Manual ProClick Binding System</td>\n",
       "      <td>9892.740</td>\n",
       "      <td>13</td>\n",
       "      <td>0.0</td>\n",
       "      <td>4946.3700</td>\n",
       "      <td>498.70</td>\n",
       "    </tr>\n",
       "    <tr>\n",
       "      <th>826</th>\n",
       "      <td>CA-2014-166709</td>\n",
       "      <td>2014-11-18</td>\n",
       "      <td>2014-11-23</td>\n",
       "      <td>5</td>\n",
       "      <td>Standard Class</td>\n",
       "      <td>HL-15040</td>\n",
       "      <td>Hunter Lopez</td>\n",
       "      <td>Consumer</td>\n",
       "      <td>Newark</td>\n",
       "      <td>Delaware</td>\n",
       "      <td>United States</td>\n",
       "      <td>Technology</td>\n",
       "      <td>Copiers</td>\n",
       "      <td>Canon imageCLASS 2200 Advanced Copier</td>\n",
       "      <td>10499.970</td>\n",
       "      <td>3</td>\n",
       "      <td>0.0</td>\n",
       "      <td>5039.9856</td>\n",
       "      <td>363.19</td>\n",
       "    </tr>\n",
       "    <tr>\n",
       "      <th>827</th>\n",
       "      <td>CA-2013-118689</td>\n",
       "      <td>2013-10-03</td>\n",
       "      <td>2013-10-10</td>\n",
       "      <td>7</td>\n",
       "      <td>Standard Class</td>\n",
       "      <td>TC-20980</td>\n",
       "      <td>Tamara Chand</td>\n",
       "      <td>Corporate</td>\n",
       "      <td>Lafayette</td>\n",
       "      <td>Indiana</td>\n",
       "      <td>United States</td>\n",
       "      <td>Technology</td>\n",
       "      <td>Copiers</td>\n",
       "      <td>Canon imageCLASS 2200 Advanced Copier</td>\n",
       "      <td>17499.950</td>\n",
       "      <td>5</td>\n",
       "      <td>0.0</td>\n",
       "      <td>8399.9760</td>\n",
       "      <td>349.07</td>\n",
       "    </tr>\n",
       "  </tbody>\n",
       "</table>\n",
       "<p>828 rows × 19 columns</p>\n",
       "</div>"
      ],
      "text/plain": [
       "            Order ID Order Date  Ship Date  Ship Days       Ship Mode  \\\n",
       "0     CA-2013-108196 2013-11-26 2013-12-03          7  Standard Class   \n",
       "1     US-2014-168116 2014-11-05 2014-11-05          0        Same Day   \n",
       "2    IT-2013-3695467 2013-06-10 2013-06-14          4  Standard Class   \n",
       "3      ID-2013-12295 2013-09-14 2013-09-14          0        Same Day   \n",
       "4       LH-2014-5390 2014-01-28 2014-01-30          2    Second Class   \n",
       "..               ...        ...        ...        ...             ...   \n",
       "823  ES-2014-1651774 2014-09-08 2014-09-14          6  Standard Class   \n",
       "824   CA-2011-116904 2011-09-23 2011-09-28          5  Standard Class   \n",
       "825   CA-2013-117121 2013-12-18 2013-12-22          4  Standard Class   \n",
       "826   CA-2014-166709 2014-11-18 2014-11-23          5  Standard Class   \n",
       "827   CA-2013-118689 2013-10-03 2013-10-10          7  Standard Class   \n",
       "\n",
       "    Customer ID     Customer Name Customer Type         City           State  \\\n",
       "0      CS-12505     Cindy Stewart      Consumer    Lancaster            Ohio   \n",
       "1      GT-14635    Grant Thornton     Corporate   Burlington  North Carolina   \n",
       "2      SS-20140  Saphhira Shifley     Corporate       Lisbon          Lisboa   \n",
       "3      SN-20560      Skye Norling   Home Office       Lahore          Punjab   \n",
       "4       JC-6105   Julie Creighton     Corporate      Vilnius         Vilnius   \n",
       "..          ...               ...           ...          ...             ...   \n",
       "823    PJ-18835     Patrick Jones     Corporate        Prato         Tuscany   \n",
       "824    SC-20095      Sanjit Chand      Consumer  Minneapolis       Minnesota   \n",
       "825    AB-10105     Adrian Barton      Consumer      Detroit        Michigan   \n",
       "826    HL-15040      Hunter Lopez      Consumer       Newark        Delaware   \n",
       "827    TC-20980      Tamara Chand     Corporate    Lafayette         Indiana   \n",
       "\n",
       "           Country     Product Type     Product  \\\n",
       "0    United States       Technology    Machines   \n",
       "1    United States       Technology    Machines   \n",
       "2         Portugal  Office Supplies  Appliances   \n",
       "3         Pakistan       Technology      Phones   \n",
       "4        Lithuania        Furniture      Tables   \n",
       "..             ...              ...         ...   \n",
       "823          Italy  Office Supplies  Appliances   \n",
       "824  United States  Office Supplies     Binders   \n",
       "825  United States  Office Supplies     Binders   \n",
       "826  United States       Technology     Copiers   \n",
       "827  United States       Technology     Copiers   \n",
       "\n",
       "                                         Product Name      Sales  Quantity  \\\n",
       "0           Cubify CubeX 3D Printer Double Head Print   4499.985         5   \n",
       "1           Cubify CubeX 3D Printer Triple Head Print   7999.980         4   \n",
       "2                                 Hoover Stove, White   3399.660        12   \n",
       "3                        Apple Smart Phone, Full Size   3499.155        11   \n",
       "4              Barricks Conference Table, Rectangular   2171.160         8   \n",
       "..                                                ...        ...       ...   \n",
       "823                                 Hoover Stove, Red   7958.580        14   \n",
       "824              Ibico EPK-21 Electric Binding System   9449.950         5   \n",
       "825  GBC Ibimaster 500 Manual ProClick Binding System   9892.740        13   \n",
       "826             Canon imageCLASS 2200 Advanced Copier  10499.970         3   \n",
       "827             Canon imageCLASS 2200 Advanced Copier  17499.950         5   \n",
       "\n",
       "     Discount     Profit  Shipping Cost  \n",
       "0         0.7 -6599.9780         451.63  \n",
       "1         0.5 -3839.9904         674.82  \n",
       "2         0.5 -3059.8200         286.87  \n",
       "3         0.5 -3009.4350         333.10  \n",
       "4         0.7 -2750.2800         390.09  \n",
       "..        ...        ...            ...  \n",
       "823       0.0  3979.0800         778.32  \n",
       "824       0.0  4630.4755         655.61  \n",
       "825       0.0  4946.3700         498.70  \n",
       "826       0.0  5039.9856         363.19  \n",
       "827       0.0  8399.9760         349.07  \n",
       "\n",
       "[828 rows x 19 columns]"
      ]
     },
     "execution_count": 2,
     "metadata": {},
     "output_type": "execute_result"
    }
   ],
   "source": [
    "amazon = pandas.read_excel('amazon.xlsx')\n",
    "amazon"
   ]
  },
  {
   "cell_type": "code",
   "execution_count": 3,
   "metadata": {},
   "outputs": [
    {
     "data": {
      "text/plain": [
       "Country\n",
       "United States    161\n",
       "Australia         70\n",
       "France            63\n",
       "China             61\n",
       "India             55\n",
       "                ... \n",
       "Belarus            1\n",
       "Uruguay            1\n",
       "Azerbaijan         1\n",
       "Montenegro         1\n",
       "Cambodia           1\n",
       "Name: count, Length: 85, dtype: int64"
      ]
     },
     "execution_count": 3,
     "metadata": {},
     "output_type": "execute_result"
    }
   ],
   "source": [
    "amazon['Country'].value_counts()"
   ]
  },
  {
   "cell_type": "code",
   "execution_count": 4,
   "metadata": {},
   "outputs": [
    {
     "data": {
      "text/html": [
       "<div>\n",
       "<style scoped>\n",
       "    .dataframe tbody tr th:only-of-type {\n",
       "        vertical-align: middle;\n",
       "    }\n",
       "\n",
       "    .dataframe tbody tr th {\n",
       "        vertical-align: top;\n",
       "    }\n",
       "\n",
       "    .dataframe thead th {\n",
       "        text-align: right;\n",
       "    }\n",
       "</style>\n",
       "<table border=\"1\" class=\"dataframe\">\n",
       "  <thead>\n",
       "    <tr style=\"text-align: right;\">\n",
       "      <th></th>\n",
       "      <th>Order ID</th>\n",
       "      <th>Order Date</th>\n",
       "      <th>Ship Date</th>\n",
       "      <th>Ship Days</th>\n",
       "      <th>Ship Mode</th>\n",
       "      <th>Customer ID</th>\n",
       "      <th>Customer Name</th>\n",
       "      <th>Customer Type</th>\n",
       "      <th>City</th>\n",
       "      <th>State</th>\n",
       "      <th>Country</th>\n",
       "      <th>Product Type</th>\n",
       "      <th>Product</th>\n",
       "      <th>Product Name</th>\n",
       "      <th>Sales</th>\n",
       "      <th>Quantity</th>\n",
       "      <th>Discount</th>\n",
       "      <th>Profit</th>\n",
       "      <th>Shipping Cost</th>\n",
       "    </tr>\n",
       "  </thead>\n",
       "  <tbody>\n",
       "    <tr>\n",
       "      <th>0</th>\n",
       "      <td>CA-2013-108196</td>\n",
       "      <td>2013-11-26</td>\n",
       "      <td>2013-12-03</td>\n",
       "      <td>7</td>\n",
       "      <td>Standard Class</td>\n",
       "      <td>CS-12505</td>\n",
       "      <td>Cindy Stewart</td>\n",
       "      <td>Consumer</td>\n",
       "      <td>Lancaster</td>\n",
       "      <td>Ohio</td>\n",
       "      <td>United States</td>\n",
       "      <td>Technology</td>\n",
       "      <td>Machines</td>\n",
       "      <td>Cubify CubeX 3D Printer Double Head Print</td>\n",
       "      <td>4499.985</td>\n",
       "      <td>5</td>\n",
       "      <td>0.7</td>\n",
       "      <td>-6599.9780</td>\n",
       "      <td>451.63</td>\n",
       "    </tr>\n",
       "    <tr>\n",
       "      <th>1</th>\n",
       "      <td>US-2014-168116</td>\n",
       "      <td>2014-11-05</td>\n",
       "      <td>2014-11-05</td>\n",
       "      <td>0</td>\n",
       "      <td>Same Day</td>\n",
       "      <td>GT-14635</td>\n",
       "      <td>Grant Thornton</td>\n",
       "      <td>Corporate</td>\n",
       "      <td>Burlington</td>\n",
       "      <td>North Carolina</td>\n",
       "      <td>United States</td>\n",
       "      <td>Technology</td>\n",
       "      <td>Machines</td>\n",
       "      <td>Cubify CubeX 3D Printer Triple Head Print</td>\n",
       "      <td>7999.980</td>\n",
       "      <td>4</td>\n",
       "      <td>0.5</td>\n",
       "      <td>-3839.9904</td>\n",
       "      <td>674.82</td>\n",
       "    </tr>\n",
       "    <tr>\n",
       "      <th>2</th>\n",
       "      <td>IT-2013-3695467</td>\n",
       "      <td>2013-06-10</td>\n",
       "      <td>2013-06-14</td>\n",
       "      <td>4</td>\n",
       "      <td>Standard Class</td>\n",
       "      <td>SS-20140</td>\n",
       "      <td>Saphhira Shifley</td>\n",
       "      <td>Corporate</td>\n",
       "      <td>Lisbon</td>\n",
       "      <td>Lisboa</td>\n",
       "      <td>Portugal</td>\n",
       "      <td>Office Supplies</td>\n",
       "      <td>Appliances</td>\n",
       "      <td>Hoover Stove, White</td>\n",
       "      <td>3399.660</td>\n",
       "      <td>12</td>\n",
       "      <td>0.5</td>\n",
       "      <td>-3059.8200</td>\n",
       "      <td>286.87</td>\n",
       "    </tr>\n",
       "    <tr>\n",
       "      <th>3</th>\n",
       "      <td>ID-2013-12295</td>\n",
       "      <td>2013-09-14</td>\n",
       "      <td>2013-09-14</td>\n",
       "      <td>0</td>\n",
       "      <td>Same Day</td>\n",
       "      <td>SN-20560</td>\n",
       "      <td>Skye Norling</td>\n",
       "      <td>Home Office</td>\n",
       "      <td>Lahore</td>\n",
       "      <td>Punjab</td>\n",
       "      <td>Pakistan</td>\n",
       "      <td>Technology</td>\n",
       "      <td>Phones</td>\n",
       "      <td>Apple Smart Phone, Full Size</td>\n",
       "      <td>3499.155</td>\n",
       "      <td>11</td>\n",
       "      <td>0.5</td>\n",
       "      <td>-3009.4350</td>\n",
       "      <td>333.10</td>\n",
       "    </tr>\n",
       "    <tr>\n",
       "      <th>4</th>\n",
       "      <td>LH-2014-5390</td>\n",
       "      <td>2014-01-28</td>\n",
       "      <td>2014-01-30</td>\n",
       "      <td>2</td>\n",
       "      <td>Second Class</td>\n",
       "      <td>JC-6105</td>\n",
       "      <td>Julie Creighton</td>\n",
       "      <td>Corporate</td>\n",
       "      <td>Vilnius</td>\n",
       "      <td>Vilnius</td>\n",
       "      <td>Lithuania</td>\n",
       "      <td>Furniture</td>\n",
       "      <td>Tables</td>\n",
       "      <td>Barricks Conference Table, Rectangular</td>\n",
       "      <td>2171.160</td>\n",
       "      <td>8</td>\n",
       "      <td>0.7</td>\n",
       "      <td>-2750.2800</td>\n",
       "      <td>390.09</td>\n",
       "    </tr>\n",
       "    <tr>\n",
       "      <th>...</th>\n",
       "      <td>...</td>\n",
       "      <td>...</td>\n",
       "      <td>...</td>\n",
       "      <td>...</td>\n",
       "      <td>...</td>\n",
       "      <td>...</td>\n",
       "      <td>...</td>\n",
       "      <td>...</td>\n",
       "      <td>...</td>\n",
       "      <td>...</td>\n",
       "      <td>...</td>\n",
       "      <td>...</td>\n",
       "      <td>...</td>\n",
       "      <td>...</td>\n",
       "      <td>...</td>\n",
       "      <td>...</td>\n",
       "      <td>...</td>\n",
       "      <td>...</td>\n",
       "      <td>...</td>\n",
       "    </tr>\n",
       "    <tr>\n",
       "      <th>823</th>\n",
       "      <td>ES-2014-1651774</td>\n",
       "      <td>2014-09-08</td>\n",
       "      <td>2014-09-14</td>\n",
       "      <td>6</td>\n",
       "      <td>Standard Class</td>\n",
       "      <td>PJ-18835</td>\n",
       "      <td>Patrick Jones</td>\n",
       "      <td>Corporate</td>\n",
       "      <td>Prato</td>\n",
       "      <td>Tuscany</td>\n",
       "      <td>Italy</td>\n",
       "      <td>Office Supplies</td>\n",
       "      <td>Appliances</td>\n",
       "      <td>Hoover Stove, Red</td>\n",
       "      <td>7958.580</td>\n",
       "      <td>14</td>\n",
       "      <td>0.0</td>\n",
       "      <td>3979.0800</td>\n",
       "      <td>778.32</td>\n",
       "    </tr>\n",
       "    <tr>\n",
       "      <th>824</th>\n",
       "      <td>CA-2011-116904</td>\n",
       "      <td>2011-09-23</td>\n",
       "      <td>2011-09-28</td>\n",
       "      <td>5</td>\n",
       "      <td>Standard Class</td>\n",
       "      <td>SC-20095</td>\n",
       "      <td>Sanjit Chand</td>\n",
       "      <td>Consumer</td>\n",
       "      <td>Minneapolis</td>\n",
       "      <td>Minnesota</td>\n",
       "      <td>United States</td>\n",
       "      <td>Office Supplies</td>\n",
       "      <td>Binders</td>\n",
       "      <td>Ibico EPK-21 Electric Binding System</td>\n",
       "      <td>9449.950</td>\n",
       "      <td>5</td>\n",
       "      <td>0.0</td>\n",
       "      <td>4630.4755</td>\n",
       "      <td>655.61</td>\n",
       "    </tr>\n",
       "    <tr>\n",
       "      <th>825</th>\n",
       "      <td>CA-2013-117121</td>\n",
       "      <td>2013-12-18</td>\n",
       "      <td>2013-12-22</td>\n",
       "      <td>4</td>\n",
       "      <td>Standard Class</td>\n",
       "      <td>AB-10105</td>\n",
       "      <td>Adrian Barton</td>\n",
       "      <td>Consumer</td>\n",
       "      <td>Detroit</td>\n",
       "      <td>Michigan</td>\n",
       "      <td>United States</td>\n",
       "      <td>Office Supplies</td>\n",
       "      <td>Binders</td>\n",
       "      <td>GBC Ibimaster 500 Manual ProClick Binding System</td>\n",
       "      <td>9892.740</td>\n",
       "      <td>13</td>\n",
       "      <td>0.0</td>\n",
       "      <td>4946.3700</td>\n",
       "      <td>498.70</td>\n",
       "    </tr>\n",
       "    <tr>\n",
       "      <th>826</th>\n",
       "      <td>CA-2014-166709</td>\n",
       "      <td>2014-11-18</td>\n",
       "      <td>2014-11-23</td>\n",
       "      <td>5</td>\n",
       "      <td>Standard Class</td>\n",
       "      <td>HL-15040</td>\n",
       "      <td>Hunter Lopez</td>\n",
       "      <td>Consumer</td>\n",
       "      <td>Newark</td>\n",
       "      <td>Delaware</td>\n",
       "      <td>United States</td>\n",
       "      <td>Technology</td>\n",
       "      <td>Copiers</td>\n",
       "      <td>Canon imageCLASS 2200 Advanced Copier</td>\n",
       "      <td>10499.970</td>\n",
       "      <td>3</td>\n",
       "      <td>0.0</td>\n",
       "      <td>5039.9856</td>\n",
       "      <td>363.19</td>\n",
       "    </tr>\n",
       "    <tr>\n",
       "      <th>827</th>\n",
       "      <td>CA-2013-118689</td>\n",
       "      <td>2013-10-03</td>\n",
       "      <td>2013-10-10</td>\n",
       "      <td>7</td>\n",
       "      <td>Standard Class</td>\n",
       "      <td>TC-20980</td>\n",
       "      <td>Tamara Chand</td>\n",
       "      <td>Corporate</td>\n",
       "      <td>Lafayette</td>\n",
       "      <td>Indiana</td>\n",
       "      <td>United States</td>\n",
       "      <td>Technology</td>\n",
       "      <td>Copiers</td>\n",
       "      <td>Canon imageCLASS 2200 Advanced Copier</td>\n",
       "      <td>17499.950</td>\n",
       "      <td>5</td>\n",
       "      <td>0.0</td>\n",
       "      <td>8399.9760</td>\n",
       "      <td>349.07</td>\n",
       "    </tr>\n",
       "  </tbody>\n",
       "</table>\n",
       "<p>828 rows × 19 columns</p>\n",
       "</div>"
      ],
      "text/plain": [
       "            Order ID Order Date  Ship Date  Ship Days       Ship Mode  \\\n",
       "0     CA-2013-108196 2013-11-26 2013-12-03          7  Standard Class   \n",
       "1     US-2014-168116 2014-11-05 2014-11-05          0        Same Day   \n",
       "2    IT-2013-3695467 2013-06-10 2013-06-14          4  Standard Class   \n",
       "3      ID-2013-12295 2013-09-14 2013-09-14          0        Same Day   \n",
       "4       LH-2014-5390 2014-01-28 2014-01-30          2    Second Class   \n",
       "..               ...        ...        ...        ...             ...   \n",
       "823  ES-2014-1651774 2014-09-08 2014-09-14          6  Standard Class   \n",
       "824   CA-2011-116904 2011-09-23 2011-09-28          5  Standard Class   \n",
       "825   CA-2013-117121 2013-12-18 2013-12-22          4  Standard Class   \n",
       "826   CA-2014-166709 2014-11-18 2014-11-23          5  Standard Class   \n",
       "827   CA-2013-118689 2013-10-03 2013-10-10          7  Standard Class   \n",
       "\n",
       "    Customer ID     Customer Name Customer Type         City           State  \\\n",
       "0      CS-12505     Cindy Stewart      Consumer    Lancaster            Ohio   \n",
       "1      GT-14635    Grant Thornton     Corporate   Burlington  North Carolina   \n",
       "2      SS-20140  Saphhira Shifley     Corporate       Lisbon          Lisboa   \n",
       "3      SN-20560      Skye Norling   Home Office       Lahore          Punjab   \n",
       "4       JC-6105   Julie Creighton     Corporate      Vilnius         Vilnius   \n",
       "..          ...               ...           ...          ...             ...   \n",
       "823    PJ-18835     Patrick Jones     Corporate        Prato         Tuscany   \n",
       "824    SC-20095      Sanjit Chand      Consumer  Minneapolis       Minnesota   \n",
       "825    AB-10105     Adrian Barton      Consumer      Detroit        Michigan   \n",
       "826    HL-15040      Hunter Lopez      Consumer       Newark        Delaware   \n",
       "827    TC-20980      Tamara Chand     Corporate    Lafayette         Indiana   \n",
       "\n",
       "           Country     Product Type     Product  \\\n",
       "0    United States       Technology    Machines   \n",
       "1    United States       Technology    Machines   \n",
       "2         Portugal  Office Supplies  Appliances   \n",
       "3         Pakistan       Technology      Phones   \n",
       "4        Lithuania        Furniture      Tables   \n",
       "..             ...              ...         ...   \n",
       "823          Italy  Office Supplies  Appliances   \n",
       "824  United States  Office Supplies     Binders   \n",
       "825  United States  Office Supplies     Binders   \n",
       "826  United States       Technology     Copiers   \n",
       "827  United States       Technology     Copiers   \n",
       "\n",
       "                                         Product Name      Sales  Quantity  \\\n",
       "0           Cubify CubeX 3D Printer Double Head Print   4499.985         5   \n",
       "1           Cubify CubeX 3D Printer Triple Head Print   7999.980         4   \n",
       "2                                 Hoover Stove, White   3399.660        12   \n",
       "3                        Apple Smart Phone, Full Size   3499.155        11   \n",
       "4              Barricks Conference Table, Rectangular   2171.160         8   \n",
       "..                                                ...        ...       ...   \n",
       "823                                 Hoover Stove, Red   7958.580        14   \n",
       "824              Ibico EPK-21 Electric Binding System   9449.950         5   \n",
       "825  GBC Ibimaster 500 Manual ProClick Binding System   9892.740        13   \n",
       "826             Canon imageCLASS 2200 Advanced Copier  10499.970         3   \n",
       "827             Canon imageCLASS 2200 Advanced Copier  17499.950         5   \n",
       "\n",
       "     Discount     Profit  Shipping Cost  \n",
       "0         0.7 -6599.9780         451.63  \n",
       "1         0.5 -3839.9904         674.82  \n",
       "2         0.5 -3059.8200         286.87  \n",
       "3         0.5 -3009.4350         333.10  \n",
       "4         0.7 -2750.2800         390.09  \n",
       "..        ...        ...            ...  \n",
       "823       0.0  3979.0800         778.32  \n",
       "824       0.0  4630.4755         655.61  \n",
       "825       0.0  4946.3700         498.70  \n",
       "826       0.0  5039.9856         363.19  \n",
       "827       0.0  8399.9760         349.07  \n",
       "\n",
       "[828 rows x 19 columns]"
      ]
     },
     "execution_count": 4,
     "metadata": {},
     "output_type": "execute_result"
    }
   ],
   "source": [
    "amazon"
   ]
  },
  {
   "cell_type": "code",
   "execution_count": 5,
   "metadata": {},
   "outputs": [
    {
     "data": {
      "application/vnd.plotly.v1+json": {
       "config": {
        "plotlyServerURL": "https://plot.ly"
       },
       "data": [
        {
         "domain": {
          "x": [
           0,
           1
          ],
          "y": [
           0,
           1
          ]
         },
         "hovertemplate": "Customer Type=%{label}<extra></extra>",
         "labels": [
          "Consumer",
          "Corporate",
          "Corporate",
          "Home Office",
          "Corporate",
          "Consumer",
          "Home Office",
          "Consumer",
          "Consumer",
          "Consumer",
          "Corporate",
          "Consumer",
          "Home Office",
          "Consumer",
          "Consumer",
          "Consumer",
          "Home Office",
          "Consumer",
          "Consumer",
          "Consumer",
          "Consumer",
          "Consumer",
          "Corporate",
          "Consumer",
          "Corporate",
          "Consumer",
          "Consumer",
          "Corporate",
          "Home Office",
          "Home Office",
          "Consumer",
          "Consumer",
          "Consumer",
          "Corporate",
          "Corporate",
          "Consumer",
          "Home Office",
          "Home Office",
          "Consumer",
          "Home Office",
          "Home Office",
          "Home Office",
          "Home Office",
          "Corporate",
          "Corporate",
          "Corporate",
          "Home Office",
          "Corporate",
          "Corporate",
          "Consumer",
          "Corporate",
          "Consumer",
          "Corporate",
          "Consumer",
          "Consumer",
          "Corporate",
          "Corporate",
          "Consumer",
          "Consumer",
          "Consumer",
          "Consumer",
          "Consumer",
          "Corporate",
          "Consumer",
          "Corporate",
          "Consumer",
          "Consumer",
          "Corporate",
          "Consumer",
          "Home Office",
          "Corporate",
          "Consumer",
          "Home Office",
          "Corporate",
          "Consumer",
          "Home Office",
          "Consumer",
          "Corporate",
          "Consumer",
          "Corporate",
          "Consumer",
          "Consumer",
          "Consumer",
          "Corporate",
          "Consumer",
          "Corporate",
          "Corporate",
          "Home Office",
          "Consumer",
          "Consumer",
          "Consumer",
          "Consumer",
          "Home Office",
          "Corporate",
          "Consumer",
          "Home Office",
          "Consumer",
          "Consumer",
          "Corporate",
          "Consumer",
          "Corporate",
          "Corporate",
          "Consumer",
          "Home Office",
          "Corporate",
          "Home Office",
          "Corporate",
          "Consumer",
          "Corporate",
          "Consumer",
          "Consumer",
          "Corporate",
          "Consumer",
          "Consumer",
          "Home Office",
          "Corporate",
          "Home Office",
          "Home Office",
          "Consumer",
          "Corporate",
          "Corporate",
          "Corporate",
          "Consumer",
          "Consumer",
          "Corporate",
          "Consumer",
          "Consumer",
          "Home Office",
          "Home Office",
          "Consumer",
          "Consumer",
          "Consumer",
          "Corporate",
          "Consumer",
          "Corporate",
          "Home Office",
          "Consumer",
          "Consumer",
          "Consumer",
          "Corporate",
          "Consumer",
          "Consumer",
          "Consumer",
          "Corporate",
          "Corporate",
          "Consumer",
          "Corporate",
          "Consumer",
          "Corporate",
          "Home Office",
          "Home Office",
          "Consumer",
          "Consumer",
          "Corporate",
          "Consumer",
          "Home Office",
          "Consumer",
          "Consumer",
          "Consumer",
          "Consumer",
          "Corporate",
          "Consumer",
          "Corporate",
          "Corporate",
          "Home Office",
          "Consumer",
          "Consumer",
          "Corporate",
          "Consumer",
          "Corporate",
          "Consumer",
          "Consumer",
          "Consumer",
          "Consumer",
          "Corporate",
          "Corporate",
          "Corporate",
          "Consumer",
          "Consumer",
          "Corporate",
          "Consumer",
          "Consumer",
          "Consumer",
          "Home Office",
          "Consumer",
          "Corporate",
          "Corporate",
          "Consumer",
          "Consumer",
          "Consumer",
          "Consumer",
          "Corporate",
          "Consumer",
          "Consumer",
          "Home Office",
          "Corporate",
          "Consumer",
          "Consumer",
          "Consumer",
          "Corporate",
          "Consumer",
          "Home Office",
          "Consumer",
          "Home Office",
          "Consumer",
          "Corporate",
          "Corporate",
          "Home Office",
          "Home Office",
          "Home Office",
          "Consumer",
          "Consumer",
          "Consumer",
          "Consumer",
          "Consumer",
          "Corporate",
          "Consumer",
          "Home Office",
          "Consumer",
          "Home Office",
          "Home Office",
          "Consumer",
          "Corporate",
          "Home Office",
          "Consumer",
          "Consumer",
          "Home Office",
          "Home Office",
          "Home Office",
          "Corporate",
          "Consumer",
          "Consumer",
          "Corporate",
          "Consumer",
          "Corporate",
          "Corporate",
          "Consumer",
          "Corporate",
          "Corporate",
          "Consumer",
          "Home Office",
          "Consumer",
          "Consumer",
          "Consumer",
          "Home Office",
          "Consumer",
          "Consumer",
          "Consumer",
          "Consumer",
          "Home Office",
          "Home Office",
          "Consumer",
          "Corporate",
          "Home Office",
          "Consumer",
          "Corporate",
          "Corporate",
          "Consumer",
          "Corporate",
          "Consumer",
          "Consumer",
          "Consumer",
          "Consumer",
          "Home Office",
          "Consumer",
          "Consumer",
          "Corporate",
          "Consumer",
          "Consumer",
          "Consumer",
          "Corporate",
          "Consumer",
          "Corporate",
          "Corporate",
          "Home Office",
          "Corporate",
          "Consumer",
          "Consumer",
          "Corporate",
          "Consumer",
          "Consumer",
          "Consumer",
          "Corporate",
          "Corporate",
          "Home Office",
          "Corporate",
          "Consumer",
          "Home Office",
          "Consumer",
          "Consumer",
          "Consumer",
          "Corporate",
          "Home Office",
          "Consumer",
          "Corporate",
          "Corporate",
          "Consumer",
          "Home Office",
          "Corporate",
          "Consumer",
          "Consumer",
          "Consumer",
          "Home Office",
          "Consumer",
          "Consumer",
          "Home Office",
          "Consumer",
          "Corporate",
          "Corporate",
          "Consumer",
          "Corporate",
          "Corporate",
          "Home Office",
          "Consumer",
          "Consumer",
          "Corporate",
          "Consumer",
          "Corporate",
          "Corporate",
          "Home Office",
          "Corporate",
          "Consumer",
          "Corporate",
          "Consumer",
          "Corporate",
          "Home Office",
          "Home Office",
          "Corporate",
          "Consumer",
          "Consumer",
          "Corporate",
          "Consumer",
          "Corporate",
          "Home Office",
          "Home Office",
          "Consumer",
          "Consumer",
          "Corporate",
          "Consumer",
          "Home Office",
          "Home Office",
          "Home Office",
          "Home Office",
          "Home Office",
          "Corporate",
          "Corporate",
          "Consumer",
          "Consumer",
          "Consumer",
          "Corporate",
          "Consumer",
          "Home Office",
          "Consumer",
          "Consumer",
          "Corporate",
          "Corporate",
          "Consumer",
          "Consumer",
          "Consumer",
          "Corporate",
          "Consumer",
          "Home Office",
          "Consumer",
          "Home Office",
          "Consumer",
          "Home Office",
          "Consumer",
          "Corporate",
          "Consumer",
          "Corporate",
          "Consumer",
          "Consumer",
          "Consumer",
          "Consumer",
          "Corporate",
          "Consumer",
          "Home Office",
          "Consumer",
          "Consumer",
          "Corporate",
          "Corporate",
          "Consumer",
          "Consumer",
          "Consumer",
          "Corporate",
          "Home Office",
          "Consumer",
          "Corporate",
          "Consumer",
          "Corporate",
          "Consumer",
          "Home Office",
          "Home Office",
          "Consumer",
          "Consumer",
          "Corporate",
          "Consumer",
          "Consumer",
          "Corporate",
          "Home Office",
          "Consumer",
          "Corporate",
          "Corporate",
          "Corporate",
          "Corporate",
          "Corporate",
          "Consumer",
          "Consumer",
          "Corporate",
          "Home Office",
          "Home Office",
          "Consumer",
          "Corporate",
          "Home Office",
          "Corporate",
          "Home Office",
          "Corporate",
          "Consumer",
          "Consumer",
          "Corporate",
          "Home Office",
          "Corporate",
          "Consumer",
          "Consumer",
          "Home Office",
          "Corporate",
          "Consumer",
          "Consumer",
          "Home Office",
          "Consumer",
          "Consumer",
          "Corporate",
          "Consumer",
          "Consumer",
          "Consumer",
          "Corporate",
          "Home Office",
          "Corporate",
          "Consumer",
          "Home Office",
          "Corporate",
          "Consumer",
          "Consumer",
          "Home Office",
          "Consumer",
          "Corporate",
          "Corporate",
          "Home Office",
          "Consumer",
          "Home Office",
          "Home Office",
          "Consumer",
          "Home Office",
          "Home Office",
          "Consumer",
          "Home Office",
          "Corporate",
          "Corporate",
          "Consumer",
          "Consumer",
          "Consumer",
          "Consumer",
          "Home Office",
          "Consumer",
          "Consumer",
          "Corporate",
          "Consumer",
          "Consumer",
          "Consumer",
          "Consumer",
          "Home Office",
          "Consumer",
          "Corporate",
          "Corporate",
          "Consumer",
          "Consumer",
          "Home Office",
          "Home Office",
          "Home Office",
          "Consumer",
          "Consumer",
          "Consumer",
          "Consumer",
          "Consumer",
          "Home Office",
          "Consumer",
          "Consumer",
          "Consumer",
          "Corporate",
          "Corporate",
          "Consumer",
          "Consumer",
          "Consumer",
          "Consumer",
          "Consumer",
          "Corporate",
          "Consumer",
          "Consumer",
          "Consumer",
          "Consumer",
          "Home Office",
          "Home Office",
          "Consumer",
          "Corporate",
          "Corporate",
          "Corporate",
          "Consumer",
          "Corporate",
          "Corporate",
          "Consumer",
          "Consumer",
          "Consumer",
          "Consumer",
          "Corporate",
          "Consumer",
          "Consumer",
          "Home Office",
          "Corporate",
          "Corporate",
          "Consumer",
          "Consumer",
          "Home Office",
          "Consumer",
          "Corporate",
          "Home Office",
          "Corporate",
          "Corporate",
          "Consumer",
          "Consumer",
          "Corporate",
          "Consumer",
          "Consumer",
          "Corporate",
          "Consumer",
          "Corporate",
          "Corporate",
          "Consumer",
          "Home Office",
          "Consumer",
          "Home Office",
          "Corporate",
          "Home Office",
          "Corporate",
          "Consumer",
          "Consumer",
          "Corporate",
          "Consumer",
          "Consumer",
          "Corporate",
          "Corporate",
          "Consumer",
          "Consumer",
          "Home Office",
          "Consumer",
          "Corporate",
          "Consumer",
          "Home Office",
          "Corporate",
          "Home Office",
          "Home Office",
          "Corporate",
          "Consumer",
          "Consumer",
          "Consumer",
          "Consumer",
          "Corporate",
          "Corporate",
          "Corporate",
          "Corporate",
          "Consumer",
          "Corporate",
          "Consumer",
          "Consumer",
          "Consumer",
          "Corporate",
          "Consumer",
          "Consumer",
          "Consumer",
          "Consumer",
          "Corporate",
          "Home Office",
          "Home Office",
          "Consumer",
          "Corporate",
          "Home Office",
          "Home Office",
          "Consumer",
          "Consumer",
          "Corporate",
          "Consumer",
          "Corporate",
          "Home Office",
          "Consumer",
          "Corporate",
          "Corporate",
          "Corporate",
          "Consumer",
          "Home Office",
          "Consumer",
          "Corporate",
          "Home Office",
          "Corporate",
          "Consumer",
          "Home Office",
          "Consumer",
          "Consumer",
          "Corporate",
          "Consumer",
          "Consumer",
          "Corporate",
          "Consumer",
          "Consumer",
          "Home Office",
          "Corporate",
          "Consumer",
          "Home Office",
          "Consumer",
          "Consumer",
          "Corporate",
          "Corporate",
          "Consumer",
          "Consumer",
          "Consumer",
          "Consumer",
          "Home Office",
          "Corporate",
          "Corporate",
          "Consumer",
          "Consumer",
          "Corporate",
          "Corporate",
          "Consumer",
          "Consumer",
          "Consumer",
          "Consumer",
          "Corporate",
          "Consumer",
          "Consumer",
          "Corporate",
          "Home Office",
          "Home Office",
          "Consumer",
          "Home Office",
          "Home Office",
          "Home Office",
          "Home Office",
          "Home Office",
          "Consumer",
          "Home Office",
          "Consumer",
          "Consumer",
          "Corporate",
          "Consumer",
          "Consumer",
          "Corporate",
          "Corporate",
          "Consumer",
          "Home Office",
          "Consumer",
          "Consumer",
          "Home Office",
          "Corporate",
          "Home Office",
          "Consumer",
          "Corporate",
          "Corporate",
          "Consumer",
          "Corporate",
          "Corporate",
          "Consumer",
          "Consumer",
          "Consumer",
          "Consumer",
          "Home Office",
          "Consumer",
          "Consumer",
          "Corporate",
          "Consumer",
          "Consumer",
          "Corporate",
          "Corporate",
          "Home Office",
          "Home Office",
          "Consumer",
          "Consumer",
          "Consumer",
          "Corporate",
          "Consumer",
          "Corporate",
          "Consumer",
          "Corporate",
          "Corporate",
          "Home Office",
          "Consumer",
          "Home Office",
          "Consumer",
          "Corporate",
          "Corporate",
          "Home Office",
          "Consumer",
          "Corporate",
          "Corporate",
          "Consumer",
          "Consumer",
          "Corporate",
          "Home Office",
          "Consumer",
          "Consumer",
          "Consumer",
          "Home Office",
          "Consumer",
          "Consumer",
          "Consumer",
          "Home Office",
          "Consumer",
          "Consumer",
          "Consumer",
          "Corporate",
          "Consumer",
          "Consumer",
          "Corporate",
          "Home Office",
          "Consumer",
          "Consumer",
          "Home Office",
          "Consumer",
          "Consumer",
          "Home Office",
          "Consumer",
          "Consumer",
          "Consumer",
          "Corporate",
          "Consumer",
          "Consumer",
          "Consumer",
          "Corporate",
          "Consumer",
          "Home Office",
          "Consumer",
          "Corporate",
          "Corporate",
          "Corporate",
          "Consumer",
          "Home Office",
          "Consumer",
          "Consumer",
          "Consumer",
          "Corporate",
          "Consumer",
          "Home Office",
          "Consumer",
          "Corporate",
          "Corporate",
          "Consumer",
          "Consumer",
          "Consumer",
          "Corporate",
          "Consumer",
          "Consumer",
          "Consumer",
          "Consumer",
          "Home Office",
          "Consumer",
          "Corporate",
          "Consumer",
          "Consumer",
          "Consumer",
          "Consumer",
          "Corporate",
          "Home Office",
          "Corporate",
          "Consumer",
          "Corporate",
          "Consumer",
          "Consumer",
          "Corporate",
          "Consumer",
          "Consumer",
          "Consumer",
          "Corporate",
          "Corporate",
          "Corporate",
          "Corporate",
          "Consumer",
          "Corporate",
          "Consumer",
          "Consumer",
          "Corporate",
          "Consumer",
          "Consumer",
          "Corporate",
          "Consumer",
          "Corporate",
          "Consumer",
          "Corporate",
          "Home Office",
          "Home Office",
          "Home Office",
          "Home Office",
          "Consumer",
          "Home Office",
          "Consumer",
          "Corporate",
          "Home Office",
          "Corporate",
          "Corporate",
          "Consumer",
          "Home Office",
          "Consumer",
          "Corporate",
          "Corporate",
          "Consumer",
          "Corporate",
          "Consumer",
          "Corporate",
          "Consumer",
          "Home Office",
          "Consumer",
          "Home Office",
          "Corporate",
          "Consumer",
          "Corporate",
          "Consumer",
          "Corporate",
          "Consumer",
          "Consumer",
          "Consumer",
          "Corporate"
         ],
         "legendgroup": "",
         "name": "",
         "showlegend": true,
         "type": "pie"
        }
       ],
       "layout": {
        "legend": {
         "tracegroupgap": 0
        },
        "margin": {
         "t": 60
        },
        "template": {
         "data": {
          "bar": [
           {
            "error_x": {
             "color": "#2a3f5f"
            },
            "error_y": {
             "color": "#2a3f5f"
            },
            "marker": {
             "line": {
              "color": "#E5ECF6",
              "width": 0.5
             },
             "pattern": {
              "fillmode": "overlay",
              "size": 10,
              "solidity": 0.2
             }
            },
            "type": "bar"
           }
          ],
          "barpolar": [
           {
            "marker": {
             "line": {
              "color": "#E5ECF6",
              "width": 0.5
             },
             "pattern": {
              "fillmode": "overlay",
              "size": 10,
              "solidity": 0.2
             }
            },
            "type": "barpolar"
           }
          ],
          "carpet": [
           {
            "aaxis": {
             "endlinecolor": "#2a3f5f",
             "gridcolor": "white",
             "linecolor": "white",
             "minorgridcolor": "white",
             "startlinecolor": "#2a3f5f"
            },
            "baxis": {
             "endlinecolor": "#2a3f5f",
             "gridcolor": "white",
             "linecolor": "white",
             "minorgridcolor": "white",
             "startlinecolor": "#2a3f5f"
            },
            "type": "carpet"
           }
          ],
          "choropleth": [
           {
            "colorbar": {
             "outlinewidth": 0,
             "ticks": ""
            },
            "type": "choropleth"
           }
          ],
          "contour": [
           {
            "colorbar": {
             "outlinewidth": 0,
             "ticks": ""
            },
            "colorscale": [
             [
              0,
              "#0d0887"
             ],
             [
              0.1111111111111111,
              "#46039f"
             ],
             [
              0.2222222222222222,
              "#7201a8"
             ],
             [
              0.3333333333333333,
              "#9c179e"
             ],
             [
              0.4444444444444444,
              "#bd3786"
             ],
             [
              0.5555555555555556,
              "#d8576b"
             ],
             [
              0.6666666666666666,
              "#ed7953"
             ],
             [
              0.7777777777777778,
              "#fb9f3a"
             ],
             [
              0.8888888888888888,
              "#fdca26"
             ],
             [
              1,
              "#f0f921"
             ]
            ],
            "type": "contour"
           }
          ],
          "contourcarpet": [
           {
            "colorbar": {
             "outlinewidth": 0,
             "ticks": ""
            },
            "type": "contourcarpet"
           }
          ],
          "heatmap": [
           {
            "colorbar": {
             "outlinewidth": 0,
             "ticks": ""
            },
            "colorscale": [
             [
              0,
              "#0d0887"
             ],
             [
              0.1111111111111111,
              "#46039f"
             ],
             [
              0.2222222222222222,
              "#7201a8"
             ],
             [
              0.3333333333333333,
              "#9c179e"
             ],
             [
              0.4444444444444444,
              "#bd3786"
             ],
             [
              0.5555555555555556,
              "#d8576b"
             ],
             [
              0.6666666666666666,
              "#ed7953"
             ],
             [
              0.7777777777777778,
              "#fb9f3a"
             ],
             [
              0.8888888888888888,
              "#fdca26"
             ],
             [
              1,
              "#f0f921"
             ]
            ],
            "type": "heatmap"
           }
          ],
          "heatmapgl": [
           {
            "colorbar": {
             "outlinewidth": 0,
             "ticks": ""
            },
            "colorscale": [
             [
              0,
              "#0d0887"
             ],
             [
              0.1111111111111111,
              "#46039f"
             ],
             [
              0.2222222222222222,
              "#7201a8"
             ],
             [
              0.3333333333333333,
              "#9c179e"
             ],
             [
              0.4444444444444444,
              "#bd3786"
             ],
             [
              0.5555555555555556,
              "#d8576b"
             ],
             [
              0.6666666666666666,
              "#ed7953"
             ],
             [
              0.7777777777777778,
              "#fb9f3a"
             ],
             [
              0.8888888888888888,
              "#fdca26"
             ],
             [
              1,
              "#f0f921"
             ]
            ],
            "type": "heatmapgl"
           }
          ],
          "histogram": [
           {
            "marker": {
             "pattern": {
              "fillmode": "overlay",
              "size": 10,
              "solidity": 0.2
             }
            },
            "type": "histogram"
           }
          ],
          "histogram2d": [
           {
            "colorbar": {
             "outlinewidth": 0,
             "ticks": ""
            },
            "colorscale": [
             [
              0,
              "#0d0887"
             ],
             [
              0.1111111111111111,
              "#46039f"
             ],
             [
              0.2222222222222222,
              "#7201a8"
             ],
             [
              0.3333333333333333,
              "#9c179e"
             ],
             [
              0.4444444444444444,
              "#bd3786"
             ],
             [
              0.5555555555555556,
              "#d8576b"
             ],
             [
              0.6666666666666666,
              "#ed7953"
             ],
             [
              0.7777777777777778,
              "#fb9f3a"
             ],
             [
              0.8888888888888888,
              "#fdca26"
             ],
             [
              1,
              "#f0f921"
             ]
            ],
            "type": "histogram2d"
           }
          ],
          "histogram2dcontour": [
           {
            "colorbar": {
             "outlinewidth": 0,
             "ticks": ""
            },
            "colorscale": [
             [
              0,
              "#0d0887"
             ],
             [
              0.1111111111111111,
              "#46039f"
             ],
             [
              0.2222222222222222,
              "#7201a8"
             ],
             [
              0.3333333333333333,
              "#9c179e"
             ],
             [
              0.4444444444444444,
              "#bd3786"
             ],
             [
              0.5555555555555556,
              "#d8576b"
             ],
             [
              0.6666666666666666,
              "#ed7953"
             ],
             [
              0.7777777777777778,
              "#fb9f3a"
             ],
             [
              0.8888888888888888,
              "#fdca26"
             ],
             [
              1,
              "#f0f921"
             ]
            ],
            "type": "histogram2dcontour"
           }
          ],
          "mesh3d": [
           {
            "colorbar": {
             "outlinewidth": 0,
             "ticks": ""
            },
            "type": "mesh3d"
           }
          ],
          "parcoords": [
           {
            "line": {
             "colorbar": {
              "outlinewidth": 0,
              "ticks": ""
             }
            },
            "type": "parcoords"
           }
          ],
          "pie": [
           {
            "automargin": true,
            "type": "pie"
           }
          ],
          "scatter": [
           {
            "fillpattern": {
             "fillmode": "overlay",
             "size": 10,
             "solidity": 0.2
            },
            "type": "scatter"
           }
          ],
          "scatter3d": [
           {
            "line": {
             "colorbar": {
              "outlinewidth": 0,
              "ticks": ""
             }
            },
            "marker": {
             "colorbar": {
              "outlinewidth": 0,
              "ticks": ""
             }
            },
            "type": "scatter3d"
           }
          ],
          "scattercarpet": [
           {
            "marker": {
             "colorbar": {
              "outlinewidth": 0,
              "ticks": ""
             }
            },
            "type": "scattercarpet"
           }
          ],
          "scattergeo": [
           {
            "marker": {
             "colorbar": {
              "outlinewidth": 0,
              "ticks": ""
             }
            },
            "type": "scattergeo"
           }
          ],
          "scattergl": [
           {
            "marker": {
             "colorbar": {
              "outlinewidth": 0,
              "ticks": ""
             }
            },
            "type": "scattergl"
           }
          ],
          "scattermapbox": [
           {
            "marker": {
             "colorbar": {
              "outlinewidth": 0,
              "ticks": ""
             }
            },
            "type": "scattermapbox"
           }
          ],
          "scatterpolar": [
           {
            "marker": {
             "colorbar": {
              "outlinewidth": 0,
              "ticks": ""
             }
            },
            "type": "scatterpolar"
           }
          ],
          "scatterpolargl": [
           {
            "marker": {
             "colorbar": {
              "outlinewidth": 0,
              "ticks": ""
             }
            },
            "type": "scatterpolargl"
           }
          ],
          "scatterternary": [
           {
            "marker": {
             "colorbar": {
              "outlinewidth": 0,
              "ticks": ""
             }
            },
            "type": "scatterternary"
           }
          ],
          "surface": [
           {
            "colorbar": {
             "outlinewidth": 0,
             "ticks": ""
            },
            "colorscale": [
             [
              0,
              "#0d0887"
             ],
             [
              0.1111111111111111,
              "#46039f"
             ],
             [
              0.2222222222222222,
              "#7201a8"
             ],
             [
              0.3333333333333333,
              "#9c179e"
             ],
             [
              0.4444444444444444,
              "#bd3786"
             ],
             [
              0.5555555555555556,
              "#d8576b"
             ],
             [
              0.6666666666666666,
              "#ed7953"
             ],
             [
              0.7777777777777778,
              "#fb9f3a"
             ],
             [
              0.8888888888888888,
              "#fdca26"
             ],
             [
              1,
              "#f0f921"
             ]
            ],
            "type": "surface"
           }
          ],
          "table": [
           {
            "cells": {
             "fill": {
              "color": "#EBF0F8"
             },
             "line": {
              "color": "white"
             }
            },
            "header": {
             "fill": {
              "color": "#C8D4E3"
             },
             "line": {
              "color": "white"
             }
            },
            "type": "table"
           }
          ]
         },
         "layout": {
          "annotationdefaults": {
           "arrowcolor": "#2a3f5f",
           "arrowhead": 0,
           "arrowwidth": 1
          },
          "autotypenumbers": "strict",
          "coloraxis": {
           "colorbar": {
            "outlinewidth": 0,
            "ticks": ""
           }
          },
          "colorscale": {
           "diverging": [
            [
             0,
             "#8e0152"
            ],
            [
             0.1,
             "#c51b7d"
            ],
            [
             0.2,
             "#de77ae"
            ],
            [
             0.3,
             "#f1b6da"
            ],
            [
             0.4,
             "#fde0ef"
            ],
            [
             0.5,
             "#f7f7f7"
            ],
            [
             0.6,
             "#e6f5d0"
            ],
            [
             0.7,
             "#b8e186"
            ],
            [
             0.8,
             "#7fbc41"
            ],
            [
             0.9,
             "#4d9221"
            ],
            [
             1,
             "#276419"
            ]
           ],
           "sequential": [
            [
             0,
             "#0d0887"
            ],
            [
             0.1111111111111111,
             "#46039f"
            ],
            [
             0.2222222222222222,
             "#7201a8"
            ],
            [
             0.3333333333333333,
             "#9c179e"
            ],
            [
             0.4444444444444444,
             "#bd3786"
            ],
            [
             0.5555555555555556,
             "#d8576b"
            ],
            [
             0.6666666666666666,
             "#ed7953"
            ],
            [
             0.7777777777777778,
             "#fb9f3a"
            ],
            [
             0.8888888888888888,
             "#fdca26"
            ],
            [
             1,
             "#f0f921"
            ]
           ],
           "sequentialminus": [
            [
             0,
             "#0d0887"
            ],
            [
             0.1111111111111111,
             "#46039f"
            ],
            [
             0.2222222222222222,
             "#7201a8"
            ],
            [
             0.3333333333333333,
             "#9c179e"
            ],
            [
             0.4444444444444444,
             "#bd3786"
            ],
            [
             0.5555555555555556,
             "#d8576b"
            ],
            [
             0.6666666666666666,
             "#ed7953"
            ],
            [
             0.7777777777777778,
             "#fb9f3a"
            ],
            [
             0.8888888888888888,
             "#fdca26"
            ],
            [
             1,
             "#f0f921"
            ]
           ]
          },
          "colorway": [
           "#636efa",
           "#EF553B",
           "#00cc96",
           "#ab63fa",
           "#FFA15A",
           "#19d3f3",
           "#FF6692",
           "#B6E880",
           "#FF97FF",
           "#FECB52"
          ],
          "font": {
           "color": "#2a3f5f"
          },
          "geo": {
           "bgcolor": "white",
           "lakecolor": "white",
           "landcolor": "#E5ECF6",
           "showlakes": true,
           "showland": true,
           "subunitcolor": "white"
          },
          "hoverlabel": {
           "align": "left"
          },
          "hovermode": "closest",
          "mapbox": {
           "style": "light"
          },
          "paper_bgcolor": "white",
          "plot_bgcolor": "#E5ECF6",
          "polar": {
           "angularaxis": {
            "gridcolor": "white",
            "linecolor": "white",
            "ticks": ""
           },
           "bgcolor": "#E5ECF6",
           "radialaxis": {
            "gridcolor": "white",
            "linecolor": "white",
            "ticks": ""
           }
          },
          "scene": {
           "xaxis": {
            "backgroundcolor": "#E5ECF6",
            "gridcolor": "white",
            "gridwidth": 2,
            "linecolor": "white",
            "showbackground": true,
            "ticks": "",
            "zerolinecolor": "white"
           },
           "yaxis": {
            "backgroundcolor": "#E5ECF6",
            "gridcolor": "white",
            "gridwidth": 2,
            "linecolor": "white",
            "showbackground": true,
            "ticks": "",
            "zerolinecolor": "white"
           },
           "zaxis": {
            "backgroundcolor": "#E5ECF6",
            "gridcolor": "white",
            "gridwidth": 2,
            "linecolor": "white",
            "showbackground": true,
            "ticks": "",
            "zerolinecolor": "white"
           }
          },
          "shapedefaults": {
           "line": {
            "color": "#2a3f5f"
           }
          },
          "ternary": {
           "aaxis": {
            "gridcolor": "white",
            "linecolor": "white",
            "ticks": ""
           },
           "baxis": {
            "gridcolor": "white",
            "linecolor": "white",
            "ticks": ""
           },
           "bgcolor": "#E5ECF6",
           "caxis": {
            "gridcolor": "white",
            "linecolor": "white",
            "ticks": ""
           }
          },
          "title": {
           "x": 0.05
          },
          "xaxis": {
           "automargin": true,
           "gridcolor": "white",
           "linecolor": "white",
           "ticks": "",
           "title": {
            "standoff": 15
           },
           "zerolinecolor": "white",
           "zerolinewidth": 2
          },
          "yaxis": {
           "automargin": true,
           "gridcolor": "white",
           "linecolor": "white",
           "ticks": "",
           "title": {
            "standoff": 15
           },
           "zerolinecolor": "white",
           "zerolinewidth": 2
          }
         }
        }
       }
      }
     },
     "metadata": {},
     "output_type": "display_data"
    }
   ],
   "source": [
    "plotly.pie(amazon,'Customer Type')"
   ]
  },
  {
   "cell_type": "code",
   "execution_count": 8,
   "metadata": {},
   "outputs": [
    {
     "data": {
      "text/html": [
       "<div>\n",
       "<style scoped>\n",
       "    .dataframe tbody tr th:only-of-type {\n",
       "        vertical-align: middle;\n",
       "    }\n",
       "\n",
       "    .dataframe tbody tr th {\n",
       "        vertical-align: top;\n",
       "    }\n",
       "\n",
       "    .dataframe thead th {\n",
       "        text-align: right;\n",
       "    }\n",
       "</style>\n",
       "<table border=\"1\" class=\"dataframe\">\n",
       "  <thead>\n",
       "    <tr style=\"text-align: right;\">\n",
       "      <th></th>\n",
       "      <th>name</th>\n",
       "      <th>rating</th>\n",
       "    </tr>\n",
       "  </thead>\n",
       "  <tbody>\n",
       "    <tr>\n",
       "      <th>0</th>\n",
       "      <td>a</td>\n",
       "      <td>1</td>\n",
       "    </tr>\n",
       "    <tr>\n",
       "      <th>1</th>\n",
       "      <td>b</td>\n",
       "      <td>2</td>\n",
       "    </tr>\n",
       "    <tr>\n",
       "      <th>2</th>\n",
       "      <td>c</td>\n",
       "      <td>2</td>\n",
       "    </tr>\n",
       "    <tr>\n",
       "      <th>3</th>\n",
       "      <td>d</td>\n",
       "      <td>3</td>\n",
       "    </tr>\n",
       "  </tbody>\n",
       "</table>\n",
       "</div>"
      ],
      "text/plain": [
       "  name  rating\n",
       "0    a       1\n",
       "1    b       2\n",
       "2    c       2\n",
       "3    d       3"
      ]
     },
     "execution_count": 8,
     "metadata": {},
     "output_type": "execute_result"
    }
   ],
   "source": [
    "import pandas as pd\n",
    "d = {\n",
    "    'name' : ['a','b','c','d'],\n",
    "    'rating' : [1, 2, 2, 3]\n",
    "}\n",
    "\n",
    "df = pd.DataFrame(d)\n",
    "\n",
    "df"
   ]
  },
  {
   "cell_type": "code",
   "execution_count": 10,
   "metadata": {},
   "outputs": [
    {
     "data": {
      "text/plain": [
       "np.float64(2.0)"
      ]
     },
     "execution_count": 10,
     "metadata": {},
     "output_type": "execute_result"
    }
   ],
   "source": [
    "df['rating'].mean()"
   ]
  },
  {
   "cell_type": "code",
   "execution_count": 9,
   "metadata": {},
   "outputs": [
    {
     "data": {
      "text/plain": [
       "0    2\n",
       "Name: rating, dtype: int64"
      ]
     },
     "execution_count": 9,
     "metadata": {},
     "output_type": "execute_result"
    }
   ],
   "source": [
    "df['rating'].mode()"
   ]
  },
  {
   "cell_type": "code",
   "execution_count": 11,
   "metadata": {},
   "outputs": [
    {
     "data": {
      "text/html": [
       "<div>\n",
       "<style scoped>\n",
       "    .dataframe tbody tr th:only-of-type {\n",
       "        vertical-align: middle;\n",
       "    }\n",
       "\n",
       "    .dataframe tbody tr th {\n",
       "        vertical-align: top;\n",
       "    }\n",
       "\n",
       "    .dataframe thead th {\n",
       "        text-align: right;\n",
       "    }\n",
       "</style>\n",
       "<table border=\"1\" class=\"dataframe\">\n",
       "  <thead>\n",
       "    <tr style=\"text-align: right;\">\n",
       "      <th></th>\n",
       "      <th>Order ID</th>\n",
       "      <th>Order Date</th>\n",
       "      <th>Ship Date</th>\n",
       "      <th>Ship Days</th>\n",
       "      <th>Ship Mode</th>\n",
       "      <th>Customer ID</th>\n",
       "      <th>Customer Name</th>\n",
       "      <th>Customer Type</th>\n",
       "      <th>City</th>\n",
       "      <th>State</th>\n",
       "      <th>Country</th>\n",
       "      <th>Product Type</th>\n",
       "      <th>Product</th>\n",
       "      <th>Product Name</th>\n",
       "      <th>Sales</th>\n",
       "      <th>Quantity</th>\n",
       "      <th>Discount</th>\n",
       "      <th>Profit</th>\n",
       "      <th>Shipping Cost</th>\n",
       "    </tr>\n",
       "  </thead>\n",
       "  <tbody>\n",
       "    <tr>\n",
       "      <th>0</th>\n",
       "      <td>CA-2013-108196</td>\n",
       "      <td>2013-11-26</td>\n",
       "      <td>2013-12-03</td>\n",
       "      <td>7</td>\n",
       "      <td>Standard Class</td>\n",
       "      <td>CS-12505</td>\n",
       "      <td>Cindy Stewart</td>\n",
       "      <td>Consumer</td>\n",
       "      <td>Lancaster</td>\n",
       "      <td>Ohio</td>\n",
       "      <td>United States</td>\n",
       "      <td>Technology</td>\n",
       "      <td>Machines</td>\n",
       "      <td>Cubify CubeX 3D Printer Double Head Print</td>\n",
       "      <td>4499.985</td>\n",
       "      <td>5</td>\n",
       "      <td>0.7</td>\n",
       "      <td>-6599.9780</td>\n",
       "      <td>451.63</td>\n",
       "    </tr>\n",
       "    <tr>\n",
       "      <th>1</th>\n",
       "      <td>US-2014-168116</td>\n",
       "      <td>2014-11-05</td>\n",
       "      <td>2014-11-05</td>\n",
       "      <td>0</td>\n",
       "      <td>Same Day</td>\n",
       "      <td>GT-14635</td>\n",
       "      <td>Grant Thornton</td>\n",
       "      <td>Corporate</td>\n",
       "      <td>Burlington</td>\n",
       "      <td>North Carolina</td>\n",
       "      <td>United States</td>\n",
       "      <td>Technology</td>\n",
       "      <td>Machines</td>\n",
       "      <td>Cubify CubeX 3D Printer Triple Head Print</td>\n",
       "      <td>7999.980</td>\n",
       "      <td>4</td>\n",
       "      <td>0.5</td>\n",
       "      <td>-3839.9904</td>\n",
       "      <td>674.82</td>\n",
       "    </tr>\n",
       "    <tr>\n",
       "      <th>2</th>\n",
       "      <td>IT-2013-3695467</td>\n",
       "      <td>2013-06-10</td>\n",
       "      <td>2013-06-14</td>\n",
       "      <td>4</td>\n",
       "      <td>Standard Class</td>\n",
       "      <td>SS-20140</td>\n",
       "      <td>Saphhira Shifley</td>\n",
       "      <td>Corporate</td>\n",
       "      <td>Lisbon</td>\n",
       "      <td>Lisboa</td>\n",
       "      <td>Portugal</td>\n",
       "      <td>Office Supplies</td>\n",
       "      <td>Appliances</td>\n",
       "      <td>Hoover Stove, White</td>\n",
       "      <td>3399.660</td>\n",
       "      <td>12</td>\n",
       "      <td>0.5</td>\n",
       "      <td>-3059.8200</td>\n",
       "      <td>286.87</td>\n",
       "    </tr>\n",
       "    <tr>\n",
       "      <th>3</th>\n",
       "      <td>ID-2013-12295</td>\n",
       "      <td>2013-09-14</td>\n",
       "      <td>2013-09-14</td>\n",
       "      <td>0</td>\n",
       "      <td>Same Day</td>\n",
       "      <td>SN-20560</td>\n",
       "      <td>Skye Norling</td>\n",
       "      <td>Home Office</td>\n",
       "      <td>Lahore</td>\n",
       "      <td>Punjab</td>\n",
       "      <td>Pakistan</td>\n",
       "      <td>Technology</td>\n",
       "      <td>Phones</td>\n",
       "      <td>Apple Smart Phone, Full Size</td>\n",
       "      <td>3499.155</td>\n",
       "      <td>11</td>\n",
       "      <td>0.5</td>\n",
       "      <td>-3009.4350</td>\n",
       "      <td>333.10</td>\n",
       "    </tr>\n",
       "    <tr>\n",
       "      <th>4</th>\n",
       "      <td>LH-2014-5390</td>\n",
       "      <td>2014-01-28</td>\n",
       "      <td>2014-01-30</td>\n",
       "      <td>2</td>\n",
       "      <td>Second Class</td>\n",
       "      <td>JC-6105</td>\n",
       "      <td>Julie Creighton</td>\n",
       "      <td>Corporate</td>\n",
       "      <td>Vilnius</td>\n",
       "      <td>Vilnius</td>\n",
       "      <td>Lithuania</td>\n",
       "      <td>Furniture</td>\n",
       "      <td>Tables</td>\n",
       "      <td>Barricks Conference Table, Rectangular</td>\n",
       "      <td>2171.160</td>\n",
       "      <td>8</td>\n",
       "      <td>0.7</td>\n",
       "      <td>-2750.2800</td>\n",
       "      <td>390.09</td>\n",
       "    </tr>\n",
       "    <tr>\n",
       "      <th>...</th>\n",
       "      <td>...</td>\n",
       "      <td>...</td>\n",
       "      <td>...</td>\n",
       "      <td>...</td>\n",
       "      <td>...</td>\n",
       "      <td>...</td>\n",
       "      <td>...</td>\n",
       "      <td>...</td>\n",
       "      <td>...</td>\n",
       "      <td>...</td>\n",
       "      <td>...</td>\n",
       "      <td>...</td>\n",
       "      <td>...</td>\n",
       "      <td>...</td>\n",
       "      <td>...</td>\n",
       "      <td>...</td>\n",
       "      <td>...</td>\n",
       "      <td>...</td>\n",
       "      <td>...</td>\n",
       "    </tr>\n",
       "    <tr>\n",
       "      <th>823</th>\n",
       "      <td>ES-2014-1651774</td>\n",
       "      <td>2014-09-08</td>\n",
       "      <td>2014-09-14</td>\n",
       "      <td>6</td>\n",
       "      <td>Standard Class</td>\n",
       "      <td>PJ-18835</td>\n",
       "      <td>Patrick Jones</td>\n",
       "      <td>Corporate</td>\n",
       "      <td>Prato</td>\n",
       "      <td>Tuscany</td>\n",
       "      <td>Italy</td>\n",
       "      <td>Office Supplies</td>\n",
       "      <td>Appliances</td>\n",
       "      <td>Hoover Stove, Red</td>\n",
       "      <td>7958.580</td>\n",
       "      <td>14</td>\n",
       "      <td>0.0</td>\n",
       "      <td>3979.0800</td>\n",
       "      <td>778.32</td>\n",
       "    </tr>\n",
       "    <tr>\n",
       "      <th>824</th>\n",
       "      <td>CA-2011-116904</td>\n",
       "      <td>2011-09-23</td>\n",
       "      <td>2011-09-28</td>\n",
       "      <td>5</td>\n",
       "      <td>Standard Class</td>\n",
       "      <td>SC-20095</td>\n",
       "      <td>Sanjit Chand</td>\n",
       "      <td>Consumer</td>\n",
       "      <td>Minneapolis</td>\n",
       "      <td>Minnesota</td>\n",
       "      <td>United States</td>\n",
       "      <td>Office Supplies</td>\n",
       "      <td>Binders</td>\n",
       "      <td>Ibico EPK-21 Electric Binding System</td>\n",
       "      <td>9449.950</td>\n",
       "      <td>5</td>\n",
       "      <td>0.0</td>\n",
       "      <td>4630.4755</td>\n",
       "      <td>655.61</td>\n",
       "    </tr>\n",
       "    <tr>\n",
       "      <th>825</th>\n",
       "      <td>CA-2013-117121</td>\n",
       "      <td>2013-12-18</td>\n",
       "      <td>2013-12-22</td>\n",
       "      <td>4</td>\n",
       "      <td>Standard Class</td>\n",
       "      <td>AB-10105</td>\n",
       "      <td>Adrian Barton</td>\n",
       "      <td>Consumer</td>\n",
       "      <td>Detroit</td>\n",
       "      <td>Michigan</td>\n",
       "      <td>United States</td>\n",
       "      <td>Office Supplies</td>\n",
       "      <td>Binders</td>\n",
       "      <td>GBC Ibimaster 500 Manual ProClick Binding System</td>\n",
       "      <td>9892.740</td>\n",
       "      <td>13</td>\n",
       "      <td>0.0</td>\n",
       "      <td>4946.3700</td>\n",
       "      <td>498.70</td>\n",
       "    </tr>\n",
       "    <tr>\n",
       "      <th>826</th>\n",
       "      <td>CA-2014-166709</td>\n",
       "      <td>2014-11-18</td>\n",
       "      <td>2014-11-23</td>\n",
       "      <td>5</td>\n",
       "      <td>Standard Class</td>\n",
       "      <td>HL-15040</td>\n",
       "      <td>Hunter Lopez</td>\n",
       "      <td>Consumer</td>\n",
       "      <td>Newark</td>\n",
       "      <td>Delaware</td>\n",
       "      <td>United States</td>\n",
       "      <td>Technology</td>\n",
       "      <td>Copiers</td>\n",
       "      <td>Canon imageCLASS 2200 Advanced Copier</td>\n",
       "      <td>10499.970</td>\n",
       "      <td>3</td>\n",
       "      <td>0.0</td>\n",
       "      <td>5039.9856</td>\n",
       "      <td>363.19</td>\n",
       "    </tr>\n",
       "    <tr>\n",
       "      <th>827</th>\n",
       "      <td>CA-2013-118689</td>\n",
       "      <td>2013-10-03</td>\n",
       "      <td>2013-10-10</td>\n",
       "      <td>7</td>\n",
       "      <td>Standard Class</td>\n",
       "      <td>TC-20980</td>\n",
       "      <td>Tamara Chand</td>\n",
       "      <td>Corporate</td>\n",
       "      <td>Lafayette</td>\n",
       "      <td>Indiana</td>\n",
       "      <td>United States</td>\n",
       "      <td>Technology</td>\n",
       "      <td>Copiers</td>\n",
       "      <td>Canon imageCLASS 2200 Advanced Copier</td>\n",
       "      <td>17499.950</td>\n",
       "      <td>5</td>\n",
       "      <td>0.0</td>\n",
       "      <td>8399.9760</td>\n",
       "      <td>349.07</td>\n",
       "    </tr>\n",
       "  </tbody>\n",
       "</table>\n",
       "<p>828 rows × 19 columns</p>\n",
       "</div>"
      ],
      "text/plain": [
       "            Order ID Order Date  Ship Date  Ship Days       Ship Mode  \\\n",
       "0     CA-2013-108196 2013-11-26 2013-12-03          7  Standard Class   \n",
       "1     US-2014-168116 2014-11-05 2014-11-05          0        Same Day   \n",
       "2    IT-2013-3695467 2013-06-10 2013-06-14          4  Standard Class   \n",
       "3      ID-2013-12295 2013-09-14 2013-09-14          0        Same Day   \n",
       "4       LH-2014-5390 2014-01-28 2014-01-30          2    Second Class   \n",
       "..               ...        ...        ...        ...             ...   \n",
       "823  ES-2014-1651774 2014-09-08 2014-09-14          6  Standard Class   \n",
       "824   CA-2011-116904 2011-09-23 2011-09-28          5  Standard Class   \n",
       "825   CA-2013-117121 2013-12-18 2013-12-22          4  Standard Class   \n",
       "826   CA-2014-166709 2014-11-18 2014-11-23          5  Standard Class   \n",
       "827   CA-2013-118689 2013-10-03 2013-10-10          7  Standard Class   \n",
       "\n",
       "    Customer ID     Customer Name Customer Type         City           State  \\\n",
       "0      CS-12505     Cindy Stewart      Consumer    Lancaster            Ohio   \n",
       "1      GT-14635    Grant Thornton     Corporate   Burlington  North Carolina   \n",
       "2      SS-20140  Saphhira Shifley     Corporate       Lisbon          Lisboa   \n",
       "3      SN-20560      Skye Norling   Home Office       Lahore          Punjab   \n",
       "4       JC-6105   Julie Creighton     Corporate      Vilnius         Vilnius   \n",
       "..          ...               ...           ...          ...             ...   \n",
       "823    PJ-18835     Patrick Jones     Corporate        Prato         Tuscany   \n",
       "824    SC-20095      Sanjit Chand      Consumer  Minneapolis       Minnesota   \n",
       "825    AB-10105     Adrian Barton      Consumer      Detroit        Michigan   \n",
       "826    HL-15040      Hunter Lopez      Consumer       Newark        Delaware   \n",
       "827    TC-20980      Tamara Chand     Corporate    Lafayette         Indiana   \n",
       "\n",
       "           Country     Product Type     Product  \\\n",
       "0    United States       Technology    Machines   \n",
       "1    United States       Technology    Machines   \n",
       "2         Portugal  Office Supplies  Appliances   \n",
       "3         Pakistan       Technology      Phones   \n",
       "4        Lithuania        Furniture      Tables   \n",
       "..             ...              ...         ...   \n",
       "823          Italy  Office Supplies  Appliances   \n",
       "824  United States  Office Supplies     Binders   \n",
       "825  United States  Office Supplies     Binders   \n",
       "826  United States       Technology     Copiers   \n",
       "827  United States       Technology     Copiers   \n",
       "\n",
       "                                         Product Name      Sales  Quantity  \\\n",
       "0           Cubify CubeX 3D Printer Double Head Print   4499.985         5   \n",
       "1           Cubify CubeX 3D Printer Triple Head Print   7999.980         4   \n",
       "2                                 Hoover Stove, White   3399.660        12   \n",
       "3                        Apple Smart Phone, Full Size   3499.155        11   \n",
       "4              Barricks Conference Table, Rectangular   2171.160         8   \n",
       "..                                                ...        ...       ...   \n",
       "823                                 Hoover Stove, Red   7958.580        14   \n",
       "824              Ibico EPK-21 Electric Binding System   9449.950         5   \n",
       "825  GBC Ibimaster 500 Manual ProClick Binding System   9892.740        13   \n",
       "826             Canon imageCLASS 2200 Advanced Copier  10499.970         3   \n",
       "827             Canon imageCLASS 2200 Advanced Copier  17499.950         5   \n",
       "\n",
       "     Discount     Profit  Shipping Cost  \n",
       "0         0.7 -6599.9780         451.63  \n",
       "1         0.5 -3839.9904         674.82  \n",
       "2         0.5 -3059.8200         286.87  \n",
       "3         0.5 -3009.4350         333.10  \n",
       "4         0.7 -2750.2800         390.09  \n",
       "..        ...        ...            ...  \n",
       "823       0.0  3979.0800         778.32  \n",
       "824       0.0  4630.4755         655.61  \n",
       "825       0.0  4946.3700         498.70  \n",
       "826       0.0  5039.9856         363.19  \n",
       "827       0.0  8399.9760         349.07  \n",
       "\n",
       "[828 rows x 19 columns]"
      ]
     },
     "execution_count": 11,
     "metadata": {},
     "output_type": "execute_result"
    }
   ],
   "source": [
    "df = pd.read_excel('amazon.xlsx')\n",
    "df"
   ]
  },
  {
   "cell_type": "code",
   "execution_count": 12,
   "metadata": {},
   "outputs": [
    {
     "data": {
      "text/plain": [
       "np.float64(2280.1979071497585)"
      ]
     },
     "execution_count": 12,
     "metadata": {},
     "output_type": "execute_result"
    }
   ],
   "source": [
    "df['Sales'].mean()"
   ]
  },
  {
   "cell_type": "code",
   "execution_count": 18,
   "metadata": {},
   "outputs": [
    {
     "data": {
      "text/plain": [
       "np.float64(2100.2829913676287)"
      ]
     },
     "execution_count": 18,
     "metadata": {},
     "output_type": "execute_result"
    }
   ],
   "source": [
    "import numpy as np\n",
    "\n",
    "# q1 and q3\n",
    "q1,q3 = np.percentile(df['Sales'],[25,75])\n",
    "\n",
    "# iqr \n",
    "iqr = q3 - q1 \n",
    "\n",
    "# min and max\n",
    "\n",
    "min = q1 - 1.5 * iqr \n",
    "max = q3 + 1.5 * iqr \n",
    "\n",
    "ndf = df.loc[ (df['Sales']>min)  & (df['Sales']<max)  ]\n",
    "ndf['Sales'].mean()"
   ]
  },
  {
   "cell_type": "code",
   "execution_count": 19,
   "metadata": {},
   "outputs": [
    {
     "data": {
      "application/vnd.plotly.v1+json": {
       "config": {
        "plotlyServerURL": "https://plot.ly"
       },
       "data": [
        {
         "alignmentgroup": "True",
         "hovertemplate": "Sales=%{x}<extra></extra>",
         "legendgroup": "",
         "marker": {
          "color": "#636efa"
         },
         "name": "",
         "notched": false,
         "offsetgroup": "",
         "orientation": "h",
         "showlegend": false,
         "type": "box",
         "x": [
          4499.985000000001,
          7999.98,
          3399.66,
          3499.155,
          2171.16,
          1525.188,
          2570.865,
          4297.644,
          1363.2,
          1983.135,
          2875.77,
          3083.43,
          1669.248,
          8159.951999999999,
          934.248,
          1824.144,
          1854.9297,
          1440.84,
          1172.664,
          2291.835,
          4663.736000000001,
          1704.87,
          2012.049,
          1273.125,
          2301.138,
          2624.985,
          1369.764,
          1582.11,
          1136.664,
          1582.2,
          3930.072,
          1293.675,
          2228.6355,
          3238.305,
          1421.664,
          1145.232,
          2180.244,
          1653.803999999999,
          4416.174,
          2065.32,
          810.72,
          3386.859,
          2018.331,
          1142.64,
          3059.982,
          2436.672,
          1725.75,
          2863.08,
          3427.1496,
          1832.607,
          2667.537,
          740.184,
          1189.2825,
          2453.43,
          1900.584,
          1801.632,
          1801.632,
          2044.800000000001,
          1760.43,
          2396.2656,
          1044.63,
          1043.9304,
          876.3000000000001,
          1090.782,
          3709.395,
          1024.68,
          2487.8088,
          1505.979,
          1809.255,
          2442.069,
          1731.072,
          1593.648,
          2214.849,
          1348.704,
          2364.102,
          2760.345,
          2375.296000000001,
          2455.677,
          1136.664,
          1696.64,
          1242.585,
          1392.633,
          1781.136,
          728.532,
          1803.0837,
          1224.714,
          2991.1032,
          3126.400199999999,
          1271.457,
          2039.796,
          751.4879999999999,
          1046.25,
          1330.992,
          1534.869,
          1765.395,
          2892.51,
          956.3400000000001,
          1433.8395,
          953.8199999999999,
          3200.5962,
          1625.2425,
          2910.1875,
          1479.3138,
          1549.1286,
          1596.51,
          1523.664,
          1695.87,
          1637.01,
          765.4590000000002,
          3150.819,
          695.7,
          726.72,
          1079.316,
          1244.187,
          899.43,
          1066.446,
          983.8800000000001,
          845.208,
          473.847,
          1058.2792,
          2283.714,
          779.28,
          2797.248000000001,
          2016.846,
          780.6080000000001,
          2645.376,
          2645.376,
          585.456,
          2372.22,
          1581.48,
          1317.9,
          1207.56,
          1887.84,
          1239,
          1521,
          957.5999999999999,
          1767.6,
          2803.92,
          664.56,
          909.12,
          1029.2589,
          1282.23,
          1655.96144,
          1238.6115,
          553.44,
          1586.412,
          1630.8,
          1885.32,
          2365.6592,
          1673.184,
          1964.25,
          2616.96,
          2673.81,
          2565.594,
          1665.62,
          3155.544,
          2833.76,
          3616.5,
          3441.69,
          2300.616,
          3117.088,
          2051.1,
          2065.5,
          1447.44,
          660.69,
          1336.356,
          2344,
          1091.2806,
          2478.6,
          1285.56,
          1399.944,
          1810.3,
          1120.77,
          1903,
          2871.54,
          795.4080000000001,
          1552.5,
          5729.345999999999,
          2190.75,
          1696.4,
          1482.39,
          1391.52,
          1237.44,
          731.34,
          1660.8,
          4164.049999999999,
          4164.049999999999,
          742.336,
          1699.83,
          1798.6764,
          1006.056,
          2968.98,
          1278,
          1278,
          1288.8,
          1637.01,
          1212.96,
          3044.8,
          2301,
          2301,
          1478.272,
          656.856,
          1188.36,
          2891.699999999999,
          820.0800000000002,
          1603.136,
          715.53,
          3393.12,
          1479.36,
          877.02,
          2120.5,
          886.1412,
          1306.467,
          1399.113,
          848.32,
          980.3199999999999,
          2761.2,
          1236.48,
          892.1360000000001,
          899.1360000000001,
          2266.44,
          935.1719999999999,
          1946.313,
          766.8720000000001,
          2880.18,
          1455.12,
          2634.552,
          1719.807,
          1704,
          996.3,
          1091.25,
          2443.48,
          1626.192,
          723.3,
          2063.4,
          2123.028,
          2910.0816,
          1805.9,
          2291.814,
          2154.9,
          1858.68,
          734.9399999999999,
          600.6,
          1622.565,
          1007.424,
          3610.848,
          1549.98,
          1274.7,
          1275,
          3278.5848,
          1497.666,
          2063.7684,
          882.0323999999998,
          2125.32,
          2404.704,
          954.6000000000001,
          2197.5,
          3637.601999999999,
          1057.8,
          3406.664,
          2892.105,
          1838.52,
          1245,
          4864.32,
          1198.2986,
          1274.7,
          935.5,
          823.5,
          2888.76,
          1583.7,
          731.34,
          1350.12,
          980.5200000000001,
          2528.26,
          1190.52,
          2556.000000000001,
          621.0000000000001,
          1801.6,
          2887.056,
          1302.96,
          1027.728,
          1018.32,
          820.4880000000002,
          1850.445,
          1031.4,
          1869.588,
          2097.12,
          2841.659999999999,
          2111.97,
          819.9359999999999,
          1439.976,
          676.485,
          755.8053600000001,
          849.8000000000002,
          1361.043,
          2465.82,
          2152.956,
          1253.76,
          1552.831,
          1461.135,
          613.26,
          1788.822,
          1869.72,
          2962.68,
          663.92,
          2395.2,
          943.8660000000002,
          3501.7368,
          677.6351999999999,
          775.536,
          3076.5,
          1919.976,
          856.44,
          856.9200000000001,
          2249.16,
          1502.01,
          2818.079999999999,
          1745.34,
          597.36,
          951.7199999999998,
          836.9279999999999,
          796.8240000000001,
          976.9599999999998,
          2619,
          1233.63,
          1253.07,
          1395,
          1839.18,
          2665.62,
          1799.97,
          2678.94,
          1609.29,
          1867.5,
          642.6899999999999,
          872.32,
          1287.45,
          2243.88,
          1234.56,
          1983.968,
          1001.7,
          1189.242,
          1124.256,
          1350.09,
          2054.272,
          2575.944,
          1619.1,
          1943.19,
          1850.46,
          703.3500000000001,
          840.15,
          1628.82,
          2173.5,
          1741.8,
          1455.08,
          3274.02,
          856.8,
          1266.36,
          919.2599999999999,
          3834.000000000001,
          3391.74,
          1704.96,
          2478.84,
          2489.4,
          856.6800000000001,
          667.7684999999999,
          1837.559999999999,
          2120.8,
          3449.88,
          2074.734,
          1977.72,
          2550,
          748.116,
          979.95,
          1296.24,
          1302.78,
          1302.78,
          815.9490000000001,
          2584.008,
          1266.86,
          788.4000000000001,
          975.92,
          976.08,
          1274.7,
          1112.778,
          1291.08,
          2125,
          1715.056,
          1202.94,
          4298.85,
          1264.466,
          895.92,
          1380.899999999999,
          1792.4,
          1469.25,
          2832.96,
          1356.03,
          1954.17,
          1924.16,
          4473.000000000001,
          2190.951,
          3309.2598,
          840.6,
          1279.32,
          889.0200000000001,
          1685.88,
          2102.832,
          1931.04,
          897.4800000000001,
          2021.88,
          899.55,
          1079.85,
          3242.88,
          1622.1825,
          1221.561,
          1538.721,
          5451.299999999999,
          2182.68,
          4367.896000000001,
          1259.97,
          1261.33,
          1094.22,
          723.3,
          1480.368,
          2973.32,
          959.984,
          2821.7178,
          1547.1,
          922.9499999999999,
          1314.45,
          1554.48,
          2735.952,
          3181.7718,
          1242.54,
          1504.52,
          2488.56,
          969.3600000000001,
          2332.96,
          1100.52,
          1214.85,
          1177.173,
          1269.6,
          1618.37,
          2550,
          1320.0075,
          1322.93,
          2753.999999999999,
          2036.8125,
          1198.56,
          1063.44,
          2582.16,
          4158.912,
          1349.85,
          3299.562,
          2036.86,
          3670.8,
          1680.606,
          1199.976,
          1258.7774,
          3018.624,
          1704.996,
          1016.792,
          2546.46,
          763.92,
          1720.116,
          1274.16,
          1114.236,
          855.1499999999999,
          2056.05,
          2171.3,
          910.3499999999999,
          2166.8976,
          2799.63,
          1863,
          1092.96,
          1612.845,
          1066.68,
          924.6600000000001,
          2348.82,
          1913.4,
          5785.02,
          1411.2,
          1586.69,
          2756.339999999999,
          1900.44,
          2014.3632,
          3785.292,
          1560.24,
          3242.88,
          1458.65,
          2509.360000000001,
          1421.541,
          1101.48,
          1464.12,
          1053.6884,
          1026.96,
          4448.223,
          1713.84,
          2624.04,
          1244.1,
          1403.36,
          1499.95,
          999.98,
          1864.215,
          1752.6,
          3799.08,
          2295,
          1278,
          959.76,
          959.76,
          965.16,
          1467.36,
          1429.44,
          1815.24,
          1633.14,
          1641.087,
          1604.9,
          1606.23,
          1607.76,
          1320.624,
          1682.91,
          2124.5,
          2244.48,
          1840.68,
          1916.73,
          1181.547,
          1512,
          2498.526,
          2174.13,
          1819.104,
          2226.816,
          4476.8,
          1894.536,
          1533.15,
          1213.18876,
          1590.9,
          2293.488,
          2875.095000000001,
          2875.095000000001,
          2325.28,
          2432.16,
          2794.2525,
          2249.91,
          2249.91,
          2470.5,
          1236.33,
          3078.720000000001,
          2106.496,
          2108.64,
          1319.96,
          2671.41,
          1908.45,
          1272.72,
          1307.97,
          1722.2832,
          2189.0898,
          3187.2,
          2621.322,
          2518.95,
          2142.3,
          1269.9,
          2526.93,
          2080.32,
          1822.08,
          2461.06,
          1318.65,
          1457.28,
          1136.94,
          1141.8,
          1590.6,
          2605.56,
          2077.32,
          3063.27,
          1878.72,
          1715.91,
          1951.84,
          1601.64,
          1900.95,
          2046.195,
          1799.1,
          2582.16,
          1381.32,
          3498.72,
          1399.93,
          1212.5,
          1237.56,
          3369.24,
          2025.36,
          1718.172,
          3393.68,
          1226.19,
          2544.372,
          2221.8,
          1999.96,
          3474.08,
          2504.74,
          3146.4,
          5737.5,
          4518.78,
          1857.06,
          4626.15,
          2399.6,
          1920.36,
          1814.25,
          1519.92,
          5048.999999999999,
          2555.64,
          2456.619,
          1446.6,
          2051.012999999999,
          1914.079999999999,
          2807.84,
          3569.643,
          4498.83,
          3059.982,
          1654.644,
          2134.44,
          2205.568,
          1917,
          2104.55,
          3504.9,
          2539.876499999999,
          2847.36,
          2544.84,
          2550,
          1599.9,
          1715.16,
          2092.5,
          2993.025,
          1487.4,
          1553.76,
          1526.52,
          1526.52,
          1696.248,
          2625.12,
          1703.025,
          1847.52,
          1483,
          1513.56,
          3227.7,
          1687.8,
          1687.8,
          2479.96,
          2757.78,
          4876.875,
          2573.82,
          1725.462,
          1917.36,
          3739.175999999999,
          1927.59,
          2953.584,
          2043.72,
          3696.0315,
          2443.905,
          2309.65,
          2402.865,
          2862.675,
          2939.93,
          1704.89,
          2575.92,
          1854.72,
          2784.599999999999,
          1954.44,
          2455.88,
          2167.296,
          2934.33,
          2405.2,
          2485.619999999999,
          1865.97,
          2544.6,
          3409.74,
          2563.92,
          1908.18,
          1693.23,
          3194.55,
          5211.12,
          4195.2,
          2399.96,
          2553.18,
          1793.98,
          1793.98,
          4748.436000000001,
          2285.699999999999,
          4135.641,
          3263.400000000001,
          3712.590000000001,
          2841.659999999999,
          3417.48,
          3172.14,
          2863.35,
          2863.35,
          3524.472,
          2003.52,
          2544.6,
          3473.139999999999,
          1902.10816,
          1782.48,
          2799.96,
          3694.68,
          1888.7,
          2698.65,
          1913.4,
          2897.91,
          2664,
          1856.34,
          3499.93,
          2472.66,
          5175.171000000001,
          2305.26,
          2899.889999999999,
          2018.88,
          3877.68,
          1916.88,
          2799.96,
          3741.523799999999,
          2058,
          2380.5,
          2958.984,
          4099.679999999999,
          3315.27,
          3219.9,
          3234.24,
          2570.76,
          2272.860000000001,
          2575.92,
          2297.96,
          2544.24,
          5244.84,
          2879.952,
          2476.08,
          2330.64,
          2518.95,
          3045.84,
          3045.84,
          3045.84,
          3701.52,
          2477.55,
          2605.92,
          3359.952,
          2188.05,
          3298.26,
          3421.71,
          3817.26,
          2673.36,
          2615.94,
          3000.78,
          3180.75,
          2544.24,
          2337.15,
          2944.08,
          2270.34,
          8399.975999999999,
          3068.361000000001,
          2593.8,
          3050.376,
          5211.12,
          2616.96,
          3863.88,
          3999.95,
          2756.943,
          4191.507,
          2549.76,
          3200.04,
          3728.429999999999,
          2711.7,
          4548.81,
          3425.400000000001,
          3038.64,
          2544.6,
          2690.97,
          3622.29,
          2715.93,
          3271.2,
          3271.2,
          3069.738,
          2799.96,
          3955.14,
          3080,
          2898.21,
          3094.56,
          4453.050000000001,
          2999.95,
          4001.04,
          3801.63,
          4305.552000000001,
          3040,
          3856.139999999999,
          3063.27,
          3149.93,
          4448.832,
          3808.8,
          3119.34,
          3272.01,
          3707.352,
          3908.88,
          3908.88,
          5725.35,
          4624.290000000001,
          4535.976000000001,
          3404.5,
          4141.02,
          4306.32,
          5276.988,
          4544.099999999999,
          5273.7,
          5083.96,
          3979.29,
          3979.29,
          3991.98,
          5451.299999999999,
          5667.87,
          4643.8,
          6999.96,
          4899.93,
          5486.67,
          9099.93,
          4899.93,
          6439.8,
          5443.96,
          5399.91,
          5301.240000000001,
          5751.540000000001,
          6998.64,
          6354.95,
          7958.58,
          9449.95,
          9892.74,
          10499.97,
          17499.95
         ],
         "x0": " ",
         "xaxis": "x",
         "y0": " ",
         "yaxis": "y"
        }
       ],
       "layout": {
        "boxmode": "group",
        "legend": {
         "tracegroupgap": 0
        },
        "margin": {
         "t": 60
        },
        "template": {
         "data": {
          "bar": [
           {
            "error_x": {
             "color": "#2a3f5f"
            },
            "error_y": {
             "color": "#2a3f5f"
            },
            "marker": {
             "line": {
              "color": "#E5ECF6",
              "width": 0.5
             },
             "pattern": {
              "fillmode": "overlay",
              "size": 10,
              "solidity": 0.2
             }
            },
            "type": "bar"
           }
          ],
          "barpolar": [
           {
            "marker": {
             "line": {
              "color": "#E5ECF6",
              "width": 0.5
             },
             "pattern": {
              "fillmode": "overlay",
              "size": 10,
              "solidity": 0.2
             }
            },
            "type": "barpolar"
           }
          ],
          "carpet": [
           {
            "aaxis": {
             "endlinecolor": "#2a3f5f",
             "gridcolor": "white",
             "linecolor": "white",
             "minorgridcolor": "white",
             "startlinecolor": "#2a3f5f"
            },
            "baxis": {
             "endlinecolor": "#2a3f5f",
             "gridcolor": "white",
             "linecolor": "white",
             "minorgridcolor": "white",
             "startlinecolor": "#2a3f5f"
            },
            "type": "carpet"
           }
          ],
          "choropleth": [
           {
            "colorbar": {
             "outlinewidth": 0,
             "ticks": ""
            },
            "type": "choropleth"
           }
          ],
          "contour": [
           {
            "colorbar": {
             "outlinewidth": 0,
             "ticks": ""
            },
            "colorscale": [
             [
              0,
              "#0d0887"
             ],
             [
              0.1111111111111111,
              "#46039f"
             ],
             [
              0.2222222222222222,
              "#7201a8"
             ],
             [
              0.3333333333333333,
              "#9c179e"
             ],
             [
              0.4444444444444444,
              "#bd3786"
             ],
             [
              0.5555555555555556,
              "#d8576b"
             ],
             [
              0.6666666666666666,
              "#ed7953"
             ],
             [
              0.7777777777777778,
              "#fb9f3a"
             ],
             [
              0.8888888888888888,
              "#fdca26"
             ],
             [
              1,
              "#f0f921"
             ]
            ],
            "type": "contour"
           }
          ],
          "contourcarpet": [
           {
            "colorbar": {
             "outlinewidth": 0,
             "ticks": ""
            },
            "type": "contourcarpet"
           }
          ],
          "heatmap": [
           {
            "colorbar": {
             "outlinewidth": 0,
             "ticks": ""
            },
            "colorscale": [
             [
              0,
              "#0d0887"
             ],
             [
              0.1111111111111111,
              "#46039f"
             ],
             [
              0.2222222222222222,
              "#7201a8"
             ],
             [
              0.3333333333333333,
              "#9c179e"
             ],
             [
              0.4444444444444444,
              "#bd3786"
             ],
             [
              0.5555555555555556,
              "#d8576b"
             ],
             [
              0.6666666666666666,
              "#ed7953"
             ],
             [
              0.7777777777777778,
              "#fb9f3a"
             ],
             [
              0.8888888888888888,
              "#fdca26"
             ],
             [
              1,
              "#f0f921"
             ]
            ],
            "type": "heatmap"
           }
          ],
          "heatmapgl": [
           {
            "colorbar": {
             "outlinewidth": 0,
             "ticks": ""
            },
            "colorscale": [
             [
              0,
              "#0d0887"
             ],
             [
              0.1111111111111111,
              "#46039f"
             ],
             [
              0.2222222222222222,
              "#7201a8"
             ],
             [
              0.3333333333333333,
              "#9c179e"
             ],
             [
              0.4444444444444444,
              "#bd3786"
             ],
             [
              0.5555555555555556,
              "#d8576b"
             ],
             [
              0.6666666666666666,
              "#ed7953"
             ],
             [
              0.7777777777777778,
              "#fb9f3a"
             ],
             [
              0.8888888888888888,
              "#fdca26"
             ],
             [
              1,
              "#f0f921"
             ]
            ],
            "type": "heatmapgl"
           }
          ],
          "histogram": [
           {
            "marker": {
             "pattern": {
              "fillmode": "overlay",
              "size": 10,
              "solidity": 0.2
             }
            },
            "type": "histogram"
           }
          ],
          "histogram2d": [
           {
            "colorbar": {
             "outlinewidth": 0,
             "ticks": ""
            },
            "colorscale": [
             [
              0,
              "#0d0887"
             ],
             [
              0.1111111111111111,
              "#46039f"
             ],
             [
              0.2222222222222222,
              "#7201a8"
             ],
             [
              0.3333333333333333,
              "#9c179e"
             ],
             [
              0.4444444444444444,
              "#bd3786"
             ],
             [
              0.5555555555555556,
              "#d8576b"
             ],
             [
              0.6666666666666666,
              "#ed7953"
             ],
             [
              0.7777777777777778,
              "#fb9f3a"
             ],
             [
              0.8888888888888888,
              "#fdca26"
             ],
             [
              1,
              "#f0f921"
             ]
            ],
            "type": "histogram2d"
           }
          ],
          "histogram2dcontour": [
           {
            "colorbar": {
             "outlinewidth": 0,
             "ticks": ""
            },
            "colorscale": [
             [
              0,
              "#0d0887"
             ],
             [
              0.1111111111111111,
              "#46039f"
             ],
             [
              0.2222222222222222,
              "#7201a8"
             ],
             [
              0.3333333333333333,
              "#9c179e"
             ],
             [
              0.4444444444444444,
              "#bd3786"
             ],
             [
              0.5555555555555556,
              "#d8576b"
             ],
             [
              0.6666666666666666,
              "#ed7953"
             ],
             [
              0.7777777777777778,
              "#fb9f3a"
             ],
             [
              0.8888888888888888,
              "#fdca26"
             ],
             [
              1,
              "#f0f921"
             ]
            ],
            "type": "histogram2dcontour"
           }
          ],
          "mesh3d": [
           {
            "colorbar": {
             "outlinewidth": 0,
             "ticks": ""
            },
            "type": "mesh3d"
           }
          ],
          "parcoords": [
           {
            "line": {
             "colorbar": {
              "outlinewidth": 0,
              "ticks": ""
             }
            },
            "type": "parcoords"
           }
          ],
          "pie": [
           {
            "automargin": true,
            "type": "pie"
           }
          ],
          "scatter": [
           {
            "fillpattern": {
             "fillmode": "overlay",
             "size": 10,
             "solidity": 0.2
            },
            "type": "scatter"
           }
          ],
          "scatter3d": [
           {
            "line": {
             "colorbar": {
              "outlinewidth": 0,
              "ticks": ""
             }
            },
            "marker": {
             "colorbar": {
              "outlinewidth": 0,
              "ticks": ""
             }
            },
            "type": "scatter3d"
           }
          ],
          "scattercarpet": [
           {
            "marker": {
             "colorbar": {
              "outlinewidth": 0,
              "ticks": ""
             }
            },
            "type": "scattercarpet"
           }
          ],
          "scattergeo": [
           {
            "marker": {
             "colorbar": {
              "outlinewidth": 0,
              "ticks": ""
             }
            },
            "type": "scattergeo"
           }
          ],
          "scattergl": [
           {
            "marker": {
             "colorbar": {
              "outlinewidth": 0,
              "ticks": ""
             }
            },
            "type": "scattergl"
           }
          ],
          "scattermapbox": [
           {
            "marker": {
             "colorbar": {
              "outlinewidth": 0,
              "ticks": ""
             }
            },
            "type": "scattermapbox"
           }
          ],
          "scatterpolar": [
           {
            "marker": {
             "colorbar": {
              "outlinewidth": 0,
              "ticks": ""
             }
            },
            "type": "scatterpolar"
           }
          ],
          "scatterpolargl": [
           {
            "marker": {
             "colorbar": {
              "outlinewidth": 0,
              "ticks": ""
             }
            },
            "type": "scatterpolargl"
           }
          ],
          "scatterternary": [
           {
            "marker": {
             "colorbar": {
              "outlinewidth": 0,
              "ticks": ""
             }
            },
            "type": "scatterternary"
           }
          ],
          "surface": [
           {
            "colorbar": {
             "outlinewidth": 0,
             "ticks": ""
            },
            "colorscale": [
             [
              0,
              "#0d0887"
             ],
             [
              0.1111111111111111,
              "#46039f"
             ],
             [
              0.2222222222222222,
              "#7201a8"
             ],
             [
              0.3333333333333333,
              "#9c179e"
             ],
             [
              0.4444444444444444,
              "#bd3786"
             ],
             [
              0.5555555555555556,
              "#d8576b"
             ],
             [
              0.6666666666666666,
              "#ed7953"
             ],
             [
              0.7777777777777778,
              "#fb9f3a"
             ],
             [
              0.8888888888888888,
              "#fdca26"
             ],
             [
              1,
              "#f0f921"
             ]
            ],
            "type": "surface"
           }
          ],
          "table": [
           {
            "cells": {
             "fill": {
              "color": "#EBF0F8"
             },
             "line": {
              "color": "white"
             }
            },
            "header": {
             "fill": {
              "color": "#C8D4E3"
             },
             "line": {
              "color": "white"
             }
            },
            "type": "table"
           }
          ]
         },
         "layout": {
          "annotationdefaults": {
           "arrowcolor": "#2a3f5f",
           "arrowhead": 0,
           "arrowwidth": 1
          },
          "autotypenumbers": "strict",
          "coloraxis": {
           "colorbar": {
            "outlinewidth": 0,
            "ticks": ""
           }
          },
          "colorscale": {
           "diverging": [
            [
             0,
             "#8e0152"
            ],
            [
             0.1,
             "#c51b7d"
            ],
            [
             0.2,
             "#de77ae"
            ],
            [
             0.3,
             "#f1b6da"
            ],
            [
             0.4,
             "#fde0ef"
            ],
            [
             0.5,
             "#f7f7f7"
            ],
            [
             0.6,
             "#e6f5d0"
            ],
            [
             0.7,
             "#b8e186"
            ],
            [
             0.8,
             "#7fbc41"
            ],
            [
             0.9,
             "#4d9221"
            ],
            [
             1,
             "#276419"
            ]
           ],
           "sequential": [
            [
             0,
             "#0d0887"
            ],
            [
             0.1111111111111111,
             "#46039f"
            ],
            [
             0.2222222222222222,
             "#7201a8"
            ],
            [
             0.3333333333333333,
             "#9c179e"
            ],
            [
             0.4444444444444444,
             "#bd3786"
            ],
            [
             0.5555555555555556,
             "#d8576b"
            ],
            [
             0.6666666666666666,
             "#ed7953"
            ],
            [
             0.7777777777777778,
             "#fb9f3a"
            ],
            [
             0.8888888888888888,
             "#fdca26"
            ],
            [
             1,
             "#f0f921"
            ]
           ],
           "sequentialminus": [
            [
             0,
             "#0d0887"
            ],
            [
             0.1111111111111111,
             "#46039f"
            ],
            [
             0.2222222222222222,
             "#7201a8"
            ],
            [
             0.3333333333333333,
             "#9c179e"
            ],
            [
             0.4444444444444444,
             "#bd3786"
            ],
            [
             0.5555555555555556,
             "#d8576b"
            ],
            [
             0.6666666666666666,
             "#ed7953"
            ],
            [
             0.7777777777777778,
             "#fb9f3a"
            ],
            [
             0.8888888888888888,
             "#fdca26"
            ],
            [
             1,
             "#f0f921"
            ]
           ]
          },
          "colorway": [
           "#636efa",
           "#EF553B",
           "#00cc96",
           "#ab63fa",
           "#FFA15A",
           "#19d3f3",
           "#FF6692",
           "#B6E880",
           "#FF97FF",
           "#FECB52"
          ],
          "font": {
           "color": "#2a3f5f"
          },
          "geo": {
           "bgcolor": "white",
           "lakecolor": "white",
           "landcolor": "#E5ECF6",
           "showlakes": true,
           "showland": true,
           "subunitcolor": "white"
          },
          "hoverlabel": {
           "align": "left"
          },
          "hovermode": "closest",
          "mapbox": {
           "style": "light"
          },
          "paper_bgcolor": "white",
          "plot_bgcolor": "#E5ECF6",
          "polar": {
           "angularaxis": {
            "gridcolor": "white",
            "linecolor": "white",
            "ticks": ""
           },
           "bgcolor": "#E5ECF6",
           "radialaxis": {
            "gridcolor": "white",
            "linecolor": "white",
            "ticks": ""
           }
          },
          "scene": {
           "xaxis": {
            "backgroundcolor": "#E5ECF6",
            "gridcolor": "white",
            "gridwidth": 2,
            "linecolor": "white",
            "showbackground": true,
            "ticks": "",
            "zerolinecolor": "white"
           },
           "yaxis": {
            "backgroundcolor": "#E5ECF6",
            "gridcolor": "white",
            "gridwidth": 2,
            "linecolor": "white",
            "showbackground": true,
            "ticks": "",
            "zerolinecolor": "white"
           },
           "zaxis": {
            "backgroundcolor": "#E5ECF6",
            "gridcolor": "white",
            "gridwidth": 2,
            "linecolor": "white",
            "showbackground": true,
            "ticks": "",
            "zerolinecolor": "white"
           }
          },
          "shapedefaults": {
           "line": {
            "color": "#2a3f5f"
           }
          },
          "ternary": {
           "aaxis": {
            "gridcolor": "white",
            "linecolor": "white",
            "ticks": ""
           },
           "baxis": {
            "gridcolor": "white",
            "linecolor": "white",
            "ticks": ""
           },
           "bgcolor": "#E5ECF6",
           "caxis": {
            "gridcolor": "white",
            "linecolor": "white",
            "ticks": ""
           }
          },
          "title": {
           "x": 0.05
          },
          "xaxis": {
           "automargin": true,
           "gridcolor": "white",
           "linecolor": "white",
           "ticks": "",
           "title": {
            "standoff": 15
           },
           "zerolinecolor": "white",
           "zerolinewidth": 2
          },
          "yaxis": {
           "automargin": true,
           "gridcolor": "white",
           "linecolor": "white",
           "ticks": "",
           "title": {
            "standoff": 15
           },
           "zerolinecolor": "white",
           "zerolinewidth": 2
          }
         }
        },
        "xaxis": {
         "anchor": "y",
         "domain": [
          0,
          1
         ],
         "title": {
          "text": "Sales"
         }
        },
        "yaxis": {
         "anchor": "x",
         "domain": [
          0,
          1
         ]
        }
       }
      }
     },
     "metadata": {},
     "output_type": "display_data"
    }
   ],
   "source": [
    "import plotly.express as px\n",
    "\n",
    "\n",
    "fig = px.box(data_frame=df,x='Sales')\n",
    "\n",
    "fig.show()\n"
   ]
  },
  {
   "cell_type": "code",
   "execution_count": 24,
   "metadata": {},
   "outputs": [
    {
     "data": {
      "text/html": [
       "<div>\n",
       "<style scoped>\n",
       "    .dataframe tbody tr th:only-of-type {\n",
       "        vertical-align: middle;\n",
       "    }\n",
       "\n",
       "    .dataframe tbody tr th {\n",
       "        vertical-align: top;\n",
       "    }\n",
       "\n",
       "    .dataframe thead th {\n",
       "        text-align: right;\n",
       "    }\n",
       "</style>\n",
       "<table border=\"1\" class=\"dataframe\">\n",
       "  <thead>\n",
       "    <tr style=\"text-align: right;\">\n",
       "      <th></th>\n",
       "      <th>total_bill</th>\n",
       "      <th>tip</th>\n",
       "      <th>sex</th>\n",
       "      <th>smoker</th>\n",
       "      <th>day</th>\n",
       "      <th>time</th>\n",
       "      <th>size</th>\n",
       "    </tr>\n",
       "  </thead>\n",
       "  <tbody>\n",
       "    <tr>\n",
       "      <th>0</th>\n",
       "      <td>16.99</td>\n",
       "      <td>1.01</td>\n",
       "      <td>Female</td>\n",
       "      <td>No</td>\n",
       "      <td>Sun</td>\n",
       "      <td>Dinner</td>\n",
       "      <td>2</td>\n",
       "    </tr>\n",
       "    <tr>\n",
       "      <th>1</th>\n",
       "      <td>10.34</td>\n",
       "      <td>1.66</td>\n",
       "      <td>Male</td>\n",
       "      <td>No</td>\n",
       "      <td>Sun</td>\n",
       "      <td>Dinner</td>\n",
       "      <td>3</td>\n",
       "    </tr>\n",
       "    <tr>\n",
       "      <th>2</th>\n",
       "      <td>21.01</td>\n",
       "      <td>3.50</td>\n",
       "      <td>Male</td>\n",
       "      <td>No</td>\n",
       "      <td>Sun</td>\n",
       "      <td>Dinner</td>\n",
       "      <td>3</td>\n",
       "    </tr>\n",
       "    <tr>\n",
       "      <th>3</th>\n",
       "      <td>23.68</td>\n",
       "      <td>3.31</td>\n",
       "      <td>Male</td>\n",
       "      <td>No</td>\n",
       "      <td>Sun</td>\n",
       "      <td>Dinner</td>\n",
       "      <td>2</td>\n",
       "    </tr>\n",
       "    <tr>\n",
       "      <th>4</th>\n",
       "      <td>24.59</td>\n",
       "      <td>3.61</td>\n",
       "      <td>Female</td>\n",
       "      <td>No</td>\n",
       "      <td>Sun</td>\n",
       "      <td>Dinner</td>\n",
       "      <td>4</td>\n",
       "    </tr>\n",
       "    <tr>\n",
       "      <th>...</th>\n",
       "      <td>...</td>\n",
       "      <td>...</td>\n",
       "      <td>...</td>\n",
       "      <td>...</td>\n",
       "      <td>...</td>\n",
       "      <td>...</td>\n",
       "      <td>...</td>\n",
       "    </tr>\n",
       "    <tr>\n",
       "      <th>239</th>\n",
       "      <td>29.03</td>\n",
       "      <td>5.92</td>\n",
       "      <td>Male</td>\n",
       "      <td>No</td>\n",
       "      <td>Sat</td>\n",
       "      <td>Dinner</td>\n",
       "      <td>3</td>\n",
       "    </tr>\n",
       "    <tr>\n",
       "      <th>240</th>\n",
       "      <td>27.18</td>\n",
       "      <td>2.00</td>\n",
       "      <td>Female</td>\n",
       "      <td>Yes</td>\n",
       "      <td>Sat</td>\n",
       "      <td>Dinner</td>\n",
       "      <td>2</td>\n",
       "    </tr>\n",
       "    <tr>\n",
       "      <th>241</th>\n",
       "      <td>22.67</td>\n",
       "      <td>2.00</td>\n",
       "      <td>Male</td>\n",
       "      <td>Yes</td>\n",
       "      <td>Sat</td>\n",
       "      <td>Dinner</td>\n",
       "      <td>2</td>\n",
       "    </tr>\n",
       "    <tr>\n",
       "      <th>242</th>\n",
       "      <td>17.82</td>\n",
       "      <td>1.75</td>\n",
       "      <td>Male</td>\n",
       "      <td>No</td>\n",
       "      <td>Sat</td>\n",
       "      <td>Dinner</td>\n",
       "      <td>2</td>\n",
       "    </tr>\n",
       "    <tr>\n",
       "      <th>243</th>\n",
       "      <td>18.78</td>\n",
       "      <td>3.00</td>\n",
       "      <td>Female</td>\n",
       "      <td>No</td>\n",
       "      <td>Thur</td>\n",
       "      <td>Dinner</td>\n",
       "      <td>2</td>\n",
       "    </tr>\n",
       "  </tbody>\n",
       "</table>\n",
       "<p>244 rows × 7 columns</p>\n",
       "</div>"
      ],
      "text/plain": [
       "     total_bill   tip     sex smoker   day    time  size\n",
       "0         16.99  1.01  Female     No   Sun  Dinner     2\n",
       "1         10.34  1.66    Male     No   Sun  Dinner     3\n",
       "2         21.01  3.50    Male     No   Sun  Dinner     3\n",
       "3         23.68  3.31    Male     No   Sun  Dinner     2\n",
       "4         24.59  3.61  Female     No   Sun  Dinner     4\n",
       "..          ...   ...     ...    ...   ...     ...   ...\n",
       "239       29.03  5.92    Male     No   Sat  Dinner     3\n",
       "240       27.18  2.00  Female    Yes   Sat  Dinner     2\n",
       "241       22.67  2.00    Male    Yes   Sat  Dinner     2\n",
       "242       17.82  1.75    Male     No   Sat  Dinner     2\n",
       "243       18.78  3.00  Female     No  Thur  Dinner     2\n",
       "\n",
       "[244 rows x 7 columns]"
      ]
     },
     "execution_count": 24,
     "metadata": {},
     "output_type": "execute_result"
    }
   ],
   "source": [
    "import matplotlib.pyplot as plt\n",
    "import seaborn as sns\n",
    "df = px.data.tips()\n",
    "df"
   ]
  },
  {
   "cell_type": "code",
   "execution_count": 23,
   "metadata": {},
   "outputs": [
    {
     "data": {
      "image/png": "[encoded data removed]",
      "text/plain": [
       "<Figure size 640x480 with 1 Axes>"
      ]
     },
     "metadata": {},
     "output_type": "display_data"
    }
   ],
   "source": [
    "plt.scatter(df['tip'],df['total_bill'])\n",
    "\n",
    "plt.show()"
   ]
  },
  {
   "cell_type": "code",
   "execution_count": 25,
   "metadata": {},
   "outputs": [
    {
     "data": {
      "text/plain": [
       "<Axes: xlabel='tip', ylabel='total_bill'>"
      ]
     },
     "execution_count": 25,
     "metadata": {},
     "output_type": "execute_result"
    },
    {
     "data": {
      "image/png": "[encoded data removed]",
      "text/plain": [
       "<Figure size 640x480 with 1 Axes>"
      ]
     },
     "metadata": {},
     "output_type": "display_data"
    }
   ],
   "source": [
    "sns.scatterplot(data=df,x='tip',y='total_bill',hue='sex')"
   ]
  },
  {
   "cell_type": "code",
   "execution_count": 26,
   "metadata": {},
   "outputs": [
    {
     "data": {
      "application/vnd.plotly.v1+json": {
       "config": {
        "plotlyServerURL": "https://plot.ly"
       },
       "data": [
        {
         "hovertemplate": "tip=%{x}<br>total_bill=%{y}<extra></extra>",
         "legendgroup": "",
         "marker": {
          "color": "#636efa",
          "symbol": "circle"
         },
         "mode": "markers",
         "name": "",
         "orientation": "v",
         "showlegend": false,
         "type": "scatter",
         "x": [
          1.01,
          1.66,
          3.5,
          3.31,
          3.61,
          4.71,
          2,
          3.12,
          1.96,
          3.23,
          1.71,
          5,
          1.57,
          3,
          3.02,
          3.92,
          1.67,
          3.71,
          3.5,
          3.35,
          4.08,
          2.75,
          2.23,
          7.58,
          3.18,
          2.34,
          2,
          2,
          4.3,
          3,
          1.45,
          2.5,
          3,
          2.45,
          3.27,
          3.6,
          2,
          3.07,
          2.31,
          5,
          2.24,
          2.54,
          3.06,
          1.32,
          5.6,
          3,
          5,
          6,
          2.05,
          3,
          2.5,
          2.6,
          5.2,
          1.56,
          4.34,
          3.51,
          3,
          1.5,
          1.76,
          6.73,
          3.21,
          2,
          1.98,
          3.76,
          2.64,
          3.15,
          2.47,
          1,
          2.01,
          2.09,
          1.97,
          3,
          3.14,
          5,
          2.2,
          1.25,
          3.08,
          4,
          3,
          2.71,
          3,
          3.4,
          1.83,
          5,
          2.03,
          5.17,
          2,
          4,
          5.85,
          3,
          3,
          3.5,
          1,
          4.3,
          3.25,
          4.73,
          4,
          1.5,
          3,
          1.5,
          2.5,
          3,
          2.5,
          3.48,
          4.08,
          1.64,
          4.06,
          4.29,
          3.76,
          4,
          3,
          1,
          4,
          2.55,
          4,
          3.5,
          5.07,
          1.5,
          1.8,
          2.92,
          2.31,
          1.68,
          2.5,
          2,
          2.52,
          4.2,
          1.48,
          2,
          2,
          2.18,
          1.5,
          2.83,
          1.5,
          2,
          3.25,
          1.25,
          2,
          2,
          2,
          2.75,
          3.5,
          6.7,
          5,
          5,
          2.3,
          1.5,
          1.36,
          1.63,
          1.73,
          2,
          2.5,
          2,
          2.74,
          2,
          2,
          5.14,
          5,
          3.75,
          2.61,
          2,
          3.5,
          2.5,
          2,
          2,
          3,
          3.48,
          2.24,
          4.5,
          1.61,
          2,
          10,
          3.16,
          5.15,
          3.18,
          4,
          3.11,
          2,
          2,
          4,
          3.55,
          3.68,
          5.65,
          3.5,
          6.5,
          3,
          5,
          3.5,
          2,
          3.5,
          4,
          1.5,
          4.19,
          2.56,
          2.02,
          4,
          1.44,
          2,
          5,
          2,
          2,
          4,
          2.01,
          2,
          2.5,
          4,
          3.23,
          3.41,
          3,
          2.03,
          2.23,
          2,
          5.16,
          9,
          2.5,
          6.5,
          1.1,
          3,
          1.5,
          1.44,
          3.09,
          2.2,
          3.48,
          1.92,
          3,
          1.58,
          2.5,
          2,
          3,
          2.72,
          2.88,
          2,
          3,
          3.39,
          1.47,
          3,
          1.25,
          1,
          1.17,
          4.67,
          5.92,
          2,
          2,
          1.75,
          3
         ],
         "xaxis": "x",
         "y": [
          16.99,
          10.34,
          21.01,
          23.68,
          24.59,
          25.29,
          8.77,
          26.88,
          15.04,
          14.78,
          10.27,
          35.26,
          15.42,
          18.43,
          14.83,
          21.58,
          10.33,
          16.29,
          16.97,
          20.65,
          17.92,
          20.29,
          15.77,
          39.42,
          19.82,
          17.81,
          13.37,
          12.69,
          21.7,
          19.65,
          9.55,
          18.35,
          15.06,
          20.69,
          17.78,
          24.06,
          16.31,
          16.93,
          18.69,
          31.27,
          16.04,
          17.46,
          13.94,
          9.68,
          30.4,
          18.29,
          22.23,
          32.4,
          28.55,
          18.04,
          12.54,
          10.29,
          34.81,
          9.94,
          25.56,
          19.49,
          38.01,
          26.41,
          11.24,
          48.27,
          20.29,
          13.81,
          11.02,
          18.29,
          17.59,
          20.08,
          16.45,
          3.07,
          20.23,
          15.01,
          12.02,
          17.07,
          26.86,
          25.28,
          14.73,
          10.51,
          17.92,
          27.2,
          22.76,
          17.29,
          19.44,
          16.66,
          10.07,
          32.68,
          15.98,
          34.83,
          13.03,
          18.28,
          24.71,
          21.16,
          28.97,
          22.49,
          5.75,
          16.32,
          22.75,
          40.17,
          27.28,
          12.03,
          21.01,
          12.46,
          11.35,
          15.38,
          44.3,
          22.42,
          20.92,
          15.36,
          20.49,
          25.21,
          18.24,
          14.31,
          14,
          7.25,
          38.07,
          23.95,
          25.71,
          17.31,
          29.93,
          10.65,
          12.43,
          24.08,
          11.69,
          13.42,
          14.26,
          15.95,
          12.48,
          29.8,
          8.52,
          14.52,
          11.38,
          22.82,
          19.08,
          20.27,
          11.17,
          12.26,
          18.26,
          8.51,
          10.33,
          14.15,
          16,
          13.16,
          17.47,
          34.3,
          41.19,
          27.05,
          16.43,
          8.35,
          18.64,
          11.87,
          9.78,
          7.51,
          14.07,
          13.13,
          17.26,
          24.55,
          19.77,
          29.85,
          48.17,
          25,
          13.39,
          16.49,
          21.5,
          12.66,
          16.21,
          13.81,
          17.51,
          24.52,
          20.76,
          31.71,
          10.59,
          10.63,
          50.81,
          15.81,
          7.25,
          31.85,
          16.82,
          32.9,
          17.89,
          14.48,
          9.6,
          34.63,
          34.65,
          23.33,
          45.35,
          23.17,
          40.55,
          20.69,
          20.9,
          30.46,
          18.15,
          23.1,
          15.69,
          19.81,
          28.44,
          15.48,
          16.58,
          7.56,
          10.34,
          43.11,
          13,
          13.51,
          18.71,
          12.74,
          13,
          16.4,
          20.53,
          16.47,
          26.59,
          38.73,
          24.27,
          12.76,
          30.06,
          25.89,
          48.33,
          13.27,
          28.17,
          12.9,
          28.15,
          11.59,
          7.74,
          30.14,
          12.16,
          13.42,
          8.58,
          15.98,
          13.42,
          16.27,
          10.09,
          20.45,
          13.28,
          22.12,
          24.01,
          15.69,
          11.61,
          10.77,
          15.53,
          10.07,
          12.6,
          32.83,
          35.83,
          29.03,
          27.18,
          22.67,
          17.82,
          18.78
         ],
         "yaxis": "y"
        }
       ],
       "layout": {
        "legend": {
         "tracegroupgap": 0
        },
        "margin": {
         "t": 60
        },
        "template": {
         "data": {
          "bar": [
           {
            "error_x": {
             "color": "#2a3f5f"
            },
            "error_y": {
             "color": "#2a3f5f"
            },
            "marker": {
             "line": {
              "color": "#E5ECF6",
              "width": 0.5
             },
             "pattern": {
              "fillmode": "overlay",
              "size": 10,
              "solidity": 0.2
             }
            },
            "type": "bar"
           }
          ],
          "barpolar": [
           {
            "marker": {
             "line": {
              "color": "#E5ECF6",
              "width": 0.5
             },
             "pattern": {
              "fillmode": "overlay",
              "size": 10,
              "solidity": 0.2
             }
            },
            "type": "barpolar"
           }
          ],
          "carpet": [
           {
            "aaxis": {
             "endlinecolor": "#2a3f5f",
             "gridcolor": "white",
             "linecolor": "white",
             "minorgridcolor": "white",
             "startlinecolor": "#2a3f5f"
            },
            "baxis": {
             "endlinecolor": "#2a3f5f",
             "gridcolor": "white",
             "linecolor": "white",
             "minorgridcolor": "white",
             "startlinecolor": "#2a3f5f"
            },
            "type": "carpet"
           }
          ],
          "choropleth": [
           {
            "colorbar": {
             "outlinewidth": 0,
             "ticks": ""
            },
            "type": "choropleth"
           }
          ],
          "contour": [
           {
            "colorbar": {
             "outlinewidth": 0,
             "ticks": ""
            },
            "colorscale": [
             [
              0,
              "#0d0887"
             ],
             [
              0.1111111111111111,
              "#46039f"
             ],
             [
              0.2222222222222222,
              "#7201a8"
             ],
             [
              0.3333333333333333,
              "#9c179e"
             ],
             [
              0.4444444444444444,
              "#bd3786"
             ],
             [
              0.5555555555555556,
              "#d8576b"
             ],
             [
              0.6666666666666666,
              "#ed7953"
             ],
             [
              0.7777777777777778,
              "#fb9f3a"
             ],
             [
              0.8888888888888888,
              "#fdca26"
             ],
             [
              1,
              "#f0f921"
             ]
            ],
            "type": "contour"
           }
          ],
          "contourcarpet": [
           {
            "colorbar": {
             "outlinewidth": 0,
             "ticks": ""
            },
            "type": "contourcarpet"
           }
          ],
          "heatmap": [
           {
            "colorbar": {
             "outlinewidth": 0,
             "ticks": ""
            },
            "colorscale": [
             [
              0,
              "#0d0887"
             ],
             [
              0.1111111111111111,
              "#46039f"
             ],
             [
              0.2222222222222222,
              "#7201a8"
             ],
             [
              0.3333333333333333,
              "#9c179e"
             ],
             [
              0.4444444444444444,
              "#bd3786"
             ],
             [
              0.5555555555555556,
              "#d8576b"
             ],
             [
              0.6666666666666666,
              "#ed7953"
             ],
             [
              0.7777777777777778,
              "#fb9f3a"
             ],
             [
              0.8888888888888888,
              "#fdca26"
             ],
             [
              1,
              "#f0f921"
             ]
            ],
            "type": "heatmap"
           }
          ],
          "heatmapgl": [
           {
            "colorbar": {
             "outlinewidth": 0,
             "ticks": ""
            },
            "colorscale": [
             [
              0,
              "#0d0887"
             ],
             [
              0.1111111111111111,
              "#46039f"
             ],
             [
              0.2222222222222222,
              "#7201a8"
             ],
             [
              0.3333333333333333,
              "#9c179e"
             ],
             [
              0.4444444444444444,
              "#bd3786"
             ],
             [
              0.5555555555555556,
              "#d8576b"
             ],
             [
              0.6666666666666666,
              "#ed7953"
             ],
             [
              0.7777777777777778,
              "#fb9f3a"
             ],
             [
              0.8888888888888888,
              "#fdca26"
             ],
             [
              1,
              "#f0f921"
             ]
            ],
            "type": "heatmapgl"
           }
          ],
          "histogram": [
           {
            "marker": {
             "pattern": {
              "fillmode": "overlay",
              "size": 10,
              "solidity": 0.2
             }
            },
            "type": "histogram"
           }
          ],
          "histogram2d": [
           {
            "colorbar": {
             "outlinewidth": 0,
             "ticks": ""
            },
            "colorscale": [
             [
              0,
              "#0d0887"
             ],
             [
              0.1111111111111111,
              "#46039f"
             ],
             [
              0.2222222222222222,
              "#7201a8"
             ],
             [
              0.3333333333333333,
              "#9c179e"
             ],
             [
              0.4444444444444444,
              "#bd3786"
             ],
             [
              0.5555555555555556,
              "#d8576b"
             ],
             [
              0.6666666666666666,
              "#ed7953"
             ],
             [
              0.7777777777777778,
              "#fb9f3a"
             ],
             [
              0.8888888888888888,
              "#fdca26"
             ],
             [
              1,
              "#f0f921"
             ]
            ],
            "type": "histogram2d"
           }
          ],
          "histogram2dcontour": [
           {
            "colorbar": {
             "outlinewidth": 0,
             "ticks": ""
            },
            "colorscale": [
             [
              0,
              "#0d0887"
             ],
             [
              0.1111111111111111,
              "#46039f"
             ],
             [
              0.2222222222222222,
              "#7201a8"
             ],
             [
              0.3333333333333333,
              "#9c179e"
             ],
             [
              0.4444444444444444,
              "#bd3786"
             ],
             [
              0.5555555555555556,
              "#d8576b"
             ],
             [
              0.6666666666666666,
              "#ed7953"
             ],
             [
              0.7777777777777778,
              "#fb9f3a"
             ],
             [
              0.8888888888888888,
              "#fdca26"
             ],
             [
              1,
              "#f0f921"
             ]
            ],
            "type": "histogram2dcontour"
           }
          ],
          "mesh3d": [
           {
            "colorbar": {
             "outlinewidth": 0,
             "ticks": ""
            },
            "type": "mesh3d"
           }
          ],
          "parcoords": [
           {
            "line": {
             "colorbar": {
              "outlinewidth": 0,
              "ticks": ""
             }
            },
            "type": "parcoords"
           }
          ],
          "pie": [
           {
            "automargin": true,
            "type": "pie"
           }
          ],
          "scatter": [
           {
            "fillpattern": {
             "fillmode": "overlay",
             "size": 10,
             "solidity": 0.2
            },
            "type": "scatter"
           }
          ],
          "scatter3d": [
           {
            "line": {
             "colorbar": {
              "outlinewidth": 0,
              "ticks": ""
             }
            },
            "marker": {
             "colorbar": {
              "outlinewidth": 0,
              "ticks": ""
             }
            },
            "type": "scatter3d"
           }
          ],
          "scattercarpet": [
           {
            "marker": {
             "colorbar": {
              "outlinewidth": 0,
              "ticks": ""
             }
            },
            "type": "scattercarpet"
           }
          ],
          "scattergeo": [
           {
            "marker": {
             "colorbar": {
              "outlinewidth": 0,
              "ticks": ""
             }
            },
            "type": "scattergeo"
           }
          ],
          "scattergl": [
           {
            "marker": {
             "colorbar": {
              "outlinewidth": 0,
              "ticks": ""
             }
            },
            "type": "scattergl"
           }
          ],
          "scattermapbox": [
           {
            "marker": {
             "colorbar": {
              "outlinewidth": 0,
              "ticks": ""
             }
            },
            "type": "scattermapbox"
           }
          ],
          "scatterpolar": [
           {
            "marker": {
             "colorbar": {
              "outlinewidth": 0,
              "ticks": ""
             }
            },
            "type": "scatterpolar"
           }
          ],
          "scatterpolargl": [
           {
            "marker": {
             "colorbar": {
              "outlinewidth": 0,
              "ticks": ""
             }
            },
            "type": "scatterpolargl"
           }
          ],
          "scatterternary": [
           {
            "marker": {
             "colorbar": {
              "outlinewidth": 0,
              "ticks": ""
             }
            },
            "type": "scatterternary"
           }
          ],
          "surface": [
           {
            "colorbar": {
             "outlinewidth": 0,
             "ticks": ""
            },
            "colorscale": [
             [
              0,
              "#0d0887"
             ],
             [
              0.1111111111111111,
              "#46039f"
             ],
             [
              0.2222222222222222,
              "#7201a8"
             ],
             [
              0.3333333333333333,
              "#9c179e"
             ],
             [
              0.4444444444444444,
              "#bd3786"
             ],
             [
              0.5555555555555556,
              "#d8576b"
             ],
             [
              0.6666666666666666,
              "#ed7953"
             ],
             [
              0.7777777777777778,
              "#fb9f3a"
             ],
             [
              0.8888888888888888,
              "#fdca26"
             ],
             [
              1,
              "#f0f921"
             ]
            ],
            "type": "surface"
           }
          ],
          "table": [
           {
            "cells": {
             "fill": {
              "color": "#EBF0F8"
             },
             "line": {
              "color": "white"
             }
            },
            "header": {
             "fill": {
              "color": "#C8D4E3"
             },
             "line": {
              "color": "white"
             }
            },
            "type": "table"
           }
          ]
         },
         "layout": {
          "annotationdefaults": {
           "arrowcolor": "#2a3f5f",
           "arrowhead": 0,
           "arrowwidth": 1
          },
          "autotypenumbers": "strict",
          "coloraxis": {
           "colorbar": {
            "outlinewidth": 0,
            "ticks": ""
           }
          },
          "colorscale": {
           "diverging": [
            [
             0,
             "#8e0152"
            ],
            [
             0.1,
             "#c51b7d"
            ],
            [
             0.2,
             "#de77ae"
            ],
            [
             0.3,
             "#f1b6da"
            ],
            [
             0.4,
             "#fde0ef"
            ],
            [
             0.5,
             "#f7f7f7"
            ],
            [
             0.6,
             "#e6f5d0"
            ],
            [
             0.7,
             "#b8e186"
            ],
            [
             0.8,
             "#7fbc41"
            ],
            [
             0.9,
             "#4d9221"
            ],
            [
             1,
             "#276419"
            ]
           ],
           "sequential": [
            [
             0,
             "#0d0887"
            ],
            [
             0.1111111111111111,
             "#46039f"
            ],
            [
             0.2222222222222222,
             "#7201a8"
            ],
            [
             0.3333333333333333,
             "#9c179e"
            ],
            [
             0.4444444444444444,
             "#bd3786"
            ],
            [
             0.5555555555555556,
             "#d8576b"
            ],
            [
             0.6666666666666666,
             "#ed7953"
            ],
            [
             0.7777777777777778,
             "#fb9f3a"
            ],
            [
             0.8888888888888888,
             "#fdca26"
            ],
            [
             1,
             "#f0f921"
            ]
           ],
           "sequentialminus": [
            [
             0,
             "#0d0887"
            ],
            [
             0.1111111111111111,
             "#46039f"
            ],
            [
             0.2222222222222222,
             "#7201a8"
            ],
            [
             0.3333333333333333,
             "#9c179e"
            ],
            [
             0.4444444444444444,
             "#bd3786"
            ],
            [
             0.5555555555555556,
             "#d8576b"
            ],
            [
             0.6666666666666666,
             "#ed7953"
            ],
            [
             0.7777777777777778,
             "#fb9f3a"
            ],
            [
             0.8888888888888888,
             "#fdca26"
            ],
            [
             1,
             "#f0f921"
            ]
           ]
          },
          "colorway": [
           "#636efa",
           "#EF553B",
           "#00cc96",
           "#ab63fa",
           "#FFA15A",
           "#19d3f3",
           "#FF6692",
           "#B6E880",
           "#FF97FF",
           "#FECB52"
          ],
          "font": {
           "color": "#2a3f5f"
          },
          "geo": {
           "bgcolor": "white",
           "lakecolor": "white",
           "landcolor": "#E5ECF6",
           "showlakes": true,
           "showland": true,
           "subunitcolor": "white"
          },
          "hoverlabel": {
           "align": "left"
          },
          "hovermode": "closest",
          "mapbox": {
           "style": "light"
          },
          "paper_bgcolor": "white",
          "plot_bgcolor": "#E5ECF6",
          "polar": {
           "angularaxis": {
            "gridcolor": "white",
            "linecolor": "white",
            "ticks": ""
           },
           "bgcolor": "#E5ECF6",
           "radialaxis": {
            "gridcolor": "white",
            "linecolor": "white",
            "ticks": ""
           }
          },
          "scene": {
           "xaxis": {
            "backgroundcolor": "#E5ECF6",
            "gridcolor": "white",
            "gridwidth": 2,
            "linecolor": "white",
            "showbackground": true,
            "ticks": "",
            "zerolinecolor": "white"
           },
           "yaxis": {
            "backgroundcolor": "#E5ECF6",
            "gridcolor": "white",
            "gridwidth": 2,
            "linecolor": "white",
            "showbackground": true,
            "ticks": "",
            "zerolinecolor": "white"
           },
           "zaxis": {
            "backgroundcolor": "#E5ECF6",
            "gridcolor": "white",
            "gridwidth": 2,
            "linecolor": "white",
            "showbackground": true,
            "ticks": "",
            "zerolinecolor": "white"
           }
          },
          "shapedefaults": {
           "line": {
            "color": "#2a3f5f"
           }
          },
          "ternary": {
           "aaxis": {
            "gridcolor": "white",
            "linecolor": "white",
            "ticks": ""
           },
           "baxis": {
            "gridcolor": "white",
            "linecolor": "white",
            "ticks": ""
           },
           "bgcolor": "#E5ECF6",
           "caxis": {
            "gridcolor": "white",
            "linecolor": "white",
            "ticks": ""
           }
          },
          "title": {
           "x": 0.05
          },
          "xaxis": {
           "automargin": true,
           "gridcolor": "white",
           "linecolor": "white",
           "ticks": "",
           "title": {
            "standoff": 15
           },
           "zerolinecolor": "white",
           "zerolinewidth": 2
          },
          "yaxis": {
           "automargin": true,
           "gridcolor": "white",
           "linecolor": "white",
           "ticks": "",
           "title": {
            "standoff": 15
           },
           "zerolinecolor": "white",
           "zerolinewidth": 2
          }
         }
        },
        "xaxis": {
         "anchor": "y",
         "domain": [
          0,
          1
         ],
         "title": {
          "text": "tip"
         }
        },
        "yaxis": {
         "anchor": "x",
         "domain": [
          0,
          1
         ],
         "title": {
          "text": "total_bill"
         }
        }
       }
      }
     },
     "metadata": {},
     "output_type": "display_data"
    }
   ],
   "source": [
    "px.scatter(data_frame=df,x='tip',y='total_bill')"
   ]
  },
  {
   "cell_type": "code",
   "execution_count": null,
   "metadata": {},
   "outputs": [],
   "source": []
  }
 ],
 "metadata": {
  "kernelspec": {
   "display_name": "Python 3",
   "language": "python",
   "name": "python3"
  },
  "language_info": {
   "codemirror_mode": {
    "name": "ipython",
    "version": 3
   },
   "file_extension": ".py",
   "mimetype": "text/x-python",
   "name": "python",
   "nbconvert_exporter": "python",
   "pygments_lexer": "ipython3",
   "version": "3.12.5"
  }
 },
 "nbformat": 4,
 "nbformat_minor": 2
}
